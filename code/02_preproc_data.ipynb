{
 "cells": [
  {
   "cell_type": "markdown",
   "id": "e339f90b-2da5-46bc-8e20-c83351d96018",
   "metadata": {},
   "source": [
    "## Dataset Preprocessing Notebook"
   ]
  },
  {
   "cell_type": "markdown",
   "id": "e09e8bb7-03b9-4ff6-a27e-9cb0cbbbace6",
   "metadata": {},
   "source": [
    "#### Load request modules"
   ]
  },
  {
   "cell_type": "code",
   "execution_count": 3,
   "id": "0e58798b-3db0-4c51-baf3-57042c40db33",
   "metadata": {},
   "outputs": [],
   "source": [
    "import pandas as pd\n",
    "import numpy as np\n",
    "import seaborn as sns\n",
    "import matplotlib.pyplot as plt\n",
    "import requests\n",
    "import os\n",
    "from urllib.parse import urlparse\n",
    "from os.path import basename\n",
    "from rich.progress import track\n",
    "import json"
   ]
  },
  {
   "cell_type": "code",
   "execution_count": 4,
   "id": "85133d46-7a9f-4b64-b6e2-9290ae3af6ce",
   "metadata": {},
   "outputs": [],
   "source": [
    "# initialize variables\n",
    "base_dir = '../data'\n",
    "hotspot_dir = f'{base_dir}/hotspot'\n",
    "\n",
    "# download chuck size\n",
    "chunk_size = 10_240\n",
    "\n",
    "#  weather data files\n",
    "urls = ['https://pub-6924d15baafa48c6a31c2d212b094174.r2.dev/environment/air_quality-13t20_97t106_20240910_20241211.csv.bz2',\n",
    "        'https://pub-6924d15baafa48c6a31c2d212b094174.r2.dev/environment/weather-13t20_97t106_20240910_20241211.csv.bz2']"
   ]
  },
  {
   "cell_type": "markdown",
   "id": "0d70aa66-83c8-4939-beda-63cb9c108a44",
   "metadata": {},
   "source": [
    "#### Load weather and air quality data"
   ]
  },
  {
   "cell_type": "code",
   "execution_count": 6,
   "id": "aa09d90c-8425-4536-b482-3afaf04c3434",
   "metadata": {},
   "outputs": [
    {
     "name": "stdout",
     "output_type": "stream",
     "text": [
      "Getting file air_quality-13t20_97t106_20240910_20241211.csv.bz2\n"
     ]
    },
    {
     "data": {
      "application/vnd.jupyter.widget-view+json": {
       "model_id": "17712ddb267f4309b5c5a1a9008febb5",
       "version_major": 2,
       "version_minor": 0
      },
      "text/plain": [
       "Output()"
      ]
     },
     "metadata": {},
     "output_type": "display_data"
    },
    {
     "data": {
      "text/html": [
       "<pre style=\"white-space:pre;overflow-x:auto;line-height:normal;font-family:Menlo,'DejaVu Sans Mono',consolas,'Courier New',monospace\"></pre>\n"
      ],
      "text/plain": []
     },
     "metadata": {},
     "output_type": "display_data"
    },
    {
     "data": {
      "text/html": [
       "<pre style=\"white-space:pre;overflow-x:auto;line-height:normal;font-family:Menlo,'DejaVu Sans Mono',consolas,'Courier New',monospace\">\n",
       "</pre>\n"
      ],
      "text/plain": [
       "\n"
      ]
     },
     "metadata": {},
     "output_type": "display_data"
    },
    {
     "name": "stdout",
     "output_type": "stream",
     "text": [
      "Getting file weather-13t20_97t106_20240910_20241211.csv.bz2\n"
     ]
    },
    {
     "data": {
      "application/vnd.jupyter.widget-view+json": {
       "model_id": "ba4bb80b902540adb4d7f492af343f90",
       "version_major": 2,
       "version_minor": 0
      },
      "text/plain": [
       "Output()"
      ]
     },
     "metadata": {},
     "output_type": "display_data"
    },
    {
     "data": {
      "text/html": [
       "<pre style=\"white-space:pre;overflow-x:auto;line-height:normal;font-family:Menlo,'DejaVu Sans Mono',consolas,'Courier New',monospace\"></pre>\n"
      ],
      "text/plain": []
     },
     "metadata": {},
     "output_type": "display_data"
    },
    {
     "data": {
      "text/html": [
       "<pre style=\"white-space:pre;overflow-x:auto;line-height:normal;font-family:Menlo,'DejaVu Sans Mono',consolas,'Courier New',monospace\">\n",
       "</pre>\n"
      ],
      "text/plain": [
       "\n"
      ]
     },
     "metadata": {},
     "output_type": "display_data"
    },
    {
     "name": "stdout",
     "output_type": "stream",
     "text": [
      "Done...\n"
     ]
    }
   ],
   "source": [
    "# download file from cloud storage\n",
    "for url in urls:\n",
    "    file = basename(url)\n",
    "    parse_url = urlparse(url)\n",
    "    print(f'Getting file {file}')\n",
    "    with requests.get(url, stream=True) as res:\n",
    "        if res.ok:\n",
    "            size = int(res.headers.get('Content-Length'))\n",
    "            with open(f'{base_dir}{parse_url.path}', 'wb') as f:\n",
    "                for chuck in track(res.iter_content(chunk_size), total=size/chunk_size, description='Download...'):\n",
    "                    f.write(chuck)\n",
    "        else:\n",
    "            print(f'Error getting file!!!')\n",
    "print('Done...')"
   ]
  },
  {
   "cell_type": "code",
   "execution_count": 7,
   "id": "f0cf9f34-a18d-4f08-9007-8779d5c64772",
   "metadata": {},
   "outputs": [],
   "source": [
    "weather_df = pd.read_csv('../data/environment/weather-13t20_97t106_20240910_20241211.csv.bz2')\n",
    "air_quality_df = pd.read_csv('../data/environment/air_quality-13t20_97t106_20240910_20241211.csv.bz2')"
   ]
  },
  {
   "cell_type": "markdown",
   "id": "3d926148-d52a-490a-93ff-e481a4735d7b",
   "metadata": {},
   "source": [
    "#### Clean data"
   ]
  },
  {
   "cell_type": "markdown",
   "id": "108670a6-d66a-43b5-933b-7460fe2cf8ff",
   "metadata": {},
   "source": [
    "##### Process Weather Dataset"
   ]
  },
  {
   "cell_type": "code",
   "execution_count": 10,
   "id": "d3d882a9-086c-4de5-aa51-1e9b2ad817e2",
   "metadata": {},
   "outputs": [
    {
     "data": {
      "text/plain": [
       "date                         0\n",
       "latitude                     0\n",
       "longitude                    0\n",
       "temperature_2m           30096\n",
       "relative_humidity_2m     30096\n",
       "dew_point_2m             30096\n",
       "pressure_msl             30096\n",
       "surface_pressure         30096\n",
       "visibility              363888\n",
       "wind_speed_10m           30096\n",
       "wind_speed_80m           30096\n",
       "wind_speed_100m         363888\n",
       "wind_speed_120m          30096\n",
       "wind_speed_180m          30096\n",
       "wind_direction_10m       30096\n",
       "wind_direction_80m       30096\n",
       "wind_direction_100m     363888\n",
       "wind_direction_120m      30096\n",
       "wind_direction_180m      30096\n",
       "temperature_80m          30096\n",
       "temperature_120m         30096\n",
       "temperature_180m         30096\n",
       "type                         0\n",
       "dtype: int64"
      ]
     },
     "execution_count": 10,
     "metadata": {},
     "output_type": "execute_result"
    }
   ],
   "source": [
    "# check weather for null columns\n",
    "weather_df.isnull().sum()"
   ]
  },
  {
   "cell_type": "code",
   "execution_count": 11,
   "id": "4a87fbac-3f91-433c-b7d8-861eb4166b99",
   "metadata": {},
   "outputs": [
    {
     "data": {
      "text/plain": [
       "date                    0\n",
       "latitude                0\n",
       "longitude               0\n",
       "temperature_2m          0\n",
       "relative_humidity_2m    0\n",
       "dew_point_2m            0\n",
       "pressure_msl            0\n",
       "surface_pressure        0\n",
       "wind_speed_10m          0\n",
       "wind_speed_80m          0\n",
       "wind_speed_120m         0\n",
       "wind_speed_180m         0\n",
       "wind_direction_10m      0\n",
       "wind_direction_80m      0\n",
       "wind_direction_120m     0\n",
       "wind_direction_180m     0\n",
       "temperature_80m         0\n",
       "temperature_120m        0\n",
       "temperature_180m        0\n",
       "dtype: int64"
      ]
     },
     "execution_count": 11,
     "metadata": {},
     "output_type": "execute_result"
    }
   ],
   "source": [
    "# drop unused column\n",
    "weather_df.drop(columns=['type', 'visibility', 'wind_speed_100m', \n",
    "                         'wind_direction_100m'], inplace=True, errors='ignore')\n",
    "# delete column with null temperature\n",
    "weather_df.dropna(subset=['temperature_2m'], inplace=True)\n",
    "\n",
    "# convert column date to datetime\n",
    "weather_df['date'] = pd.to_datetime(weather_df['date'], utc=True, format='ISO8601')\n",
    "\n",
    "# check weather for null columns\n",
    "weather_df.isnull().sum()"
   ]
  },
  {
   "cell_type": "markdown",
   "id": "b103294e-3a5f-4d29-9767-374ed0003212",
   "metadata": {},
   "source": [
    "##### Process Air Quality Dataset"
   ]
  },
  {
   "cell_type": "code",
   "execution_count": 13,
   "id": "2d018f42-169a-4106-9d61-f7992b41c7e8",
   "metadata": {},
   "outputs": [
    {
     "data": {
      "text/plain": [
       "date                      0\n",
       "latitude                  0\n",
       "longitude                 0\n",
       "pm10                      0\n",
       "pm2_5                     0\n",
       "carbon_monoxide           0\n",
       "carbon_dioxide      3020544\n",
       "nitrogen_dioxide          0\n",
       "sulphur_dioxide           0\n",
       "ozone                     0\n",
       "dust                      0\n",
       "uv_index                  0\n",
       "type                      0\n",
       "dtype: int64"
      ]
     },
     "execution_count": 13,
     "metadata": {},
     "output_type": "execute_result"
    }
   ],
   "source": [
    "# check air quality for null columns\n",
    "air_quality_df.isnull().sum()"
   ]
  },
  {
   "cell_type": "code",
   "execution_count": 14,
   "id": "7b2f76de-d9fa-40df-b8ef-d273cc42860c",
   "metadata": {},
   "outputs": [],
   "source": [
    "# drop unused column\n",
    "air_quality_df.drop(columns=['type','carbon_dioxide'], inplace=True, errors='ignore')\n",
    "\n",
    "# convert column date to datetime\n",
    "air_quality_df['date'] = pd.to_datetime(air_quality_df['date'], utc=True, format='ISO8601')"
   ]
  },
  {
   "cell_type": "code",
   "execution_count": 15,
   "id": "10b9bdda-dc56-4797-b528-adc9f6b50c85",
   "metadata": {},
   "outputs": [
    {
     "data": {
      "text/plain": [
       "date                0\n",
       "latitude            0\n",
       "longitude           0\n",
       "pm10                0\n",
       "pm2_5               0\n",
       "carbon_monoxide     0\n",
       "nitrogen_dioxide    0\n",
       "sulphur_dioxide     0\n",
       "ozone               0\n",
       "dust                0\n",
       "uv_index            0\n",
       "dtype: int64"
      ]
     },
     "execution_count": 15,
     "metadata": {},
     "output_type": "execute_result"
    }
   ],
   "source": [
    "# check air quality for null columns\n",
    "air_quality_df.isnull().sum()"
   ]
  },
  {
   "cell_type": "code",
   "execution_count": 16,
   "id": "98cb14e4-6df0-4ee7-9f32-af547b46ab5f",
   "metadata": {},
   "outputs": [
    {
     "data": {
      "text/plain": [
       "count                                6076656\n",
       "mean     2024-10-26 17:00:00.000001024+00:00\n",
       "min                2024-09-10 11:00:00+00:00\n",
       "25%                2024-10-03 14:00:00+00:00\n",
       "50%                2024-10-26 17:00:00+00:00\n",
       "75%                2024-11-18 20:00:00+00:00\n",
       "max                2024-12-11 23:00:00+00:00\n",
       "Name: date, dtype: object"
      ]
     },
     "execution_count": 16,
     "metadata": {},
     "output_type": "execute_result"
    }
   ],
   "source": [
    "# review data date range for weather\n",
    "weather_df['date'].describe()"
   ]
  },
  {
   "cell_type": "code",
   "execution_count": 17,
   "id": "e26d87c3-c456-445e-ae49-55b1b41827b0",
   "metadata": {},
   "outputs": [
    {
     "data": {
      "text/plain": [
       "count                                6106752\n",
       "mean     2024-10-26 11:29:59.999999232+00:00\n",
       "min                2024-09-10 00:00:00+00:00\n",
       "25%                2024-10-03 05:45:00+00:00\n",
       "50%                2024-10-26 11:30:00+00:00\n",
       "75%                2024-11-18 17:15:00+00:00\n",
       "max                2024-12-11 23:00:00+00:00\n",
       "Name: date, dtype: object"
      ]
     },
     "execution_count": 17,
     "metadata": {},
     "output_type": "execute_result"
    }
   ],
   "source": [
    "# review data date range for air quality\n",
    "air_quality_df['date'].describe()"
   ]
  },
  {
   "cell_type": "code",
   "execution_count": 18,
   "id": "6bc149e1-4790-4435-b2ac-cdb62a052d0b",
   "metadata": {},
   "outputs": [],
   "source": [
    "# filter data date range to the same as both\n",
    "weather_df = weather_df.loc[(weather_df['date'] >= '2024-09-11 11:00:00+00:00') & \\\n",
    "                                    (weather_df['date'] <= '2024-12-11 11:00:00+00:00')]"
   ]
  },
  {
   "cell_type": "code",
   "execution_count": 19,
   "id": "6e1e1839-d865-4784-99b9-a68a2011fc63",
   "metadata": {},
   "outputs": [],
   "source": [
    "# filter air quality data date range as same as\n",
    "air_quality_df = air_quality_df.loc[(air_quality_df['date'] >= '2024-09-11 11:00:00+00:00') & \\\n",
    "                                    (air_quality_df['date'] <= '2024-12-11 11:00:00+00:00')]"
   ]
  },
  {
   "cell_type": "code",
   "execution_count": 20,
   "id": "5c352848-79de-4958-93f3-9bdd672fc0b9",
   "metadata": {},
   "outputs": [],
   "source": [
    "weather_df.set_index(['date','latitude','longitude'], inplace=True)\n",
    "air_quality_df.set_index(['date','latitude','longitude'], inplace=True)\n",
    "\n",
    "# combine weather and air quality\n",
    "env_df = pd.concat([weather_df, air_quality_df], axis=1) \\\n",
    "        .reset_index()"
   ]
  },
  {
   "cell_type": "code",
   "execution_count": 21,
   "id": "72098f2b-9b3f-4064-91a2-277206a90fbb",
   "metadata": {},
   "outputs": [
    {
     "data": {
      "text/html": [
       "<div>\n",
       "<style scoped>\n",
       "    .dataframe tbody tr th:only-of-type {\n",
       "        vertical-align: middle;\n",
       "    }\n",
       "\n",
       "    .dataframe tbody tr th {\n",
       "        vertical-align: top;\n",
       "    }\n",
       "\n",
       "    .dataframe thead th {\n",
       "        text-align: right;\n",
       "    }\n",
       "</style>\n",
       "<table border=\"1\" class=\"dataframe\">\n",
       "  <thead>\n",
       "    <tr style=\"text-align: right;\">\n",
       "      <th></th>\n",
       "      <th>date</th>\n",
       "      <th>latitude</th>\n",
       "      <th>longitude</th>\n",
       "      <th>temperature_2m</th>\n",
       "      <th>relative_humidity_2m</th>\n",
       "      <th>dew_point_2m</th>\n",
       "      <th>pressure_msl</th>\n",
       "      <th>surface_pressure</th>\n",
       "      <th>wind_speed_10m</th>\n",
       "      <th>wind_speed_80m</th>\n",
       "      <th>...</th>\n",
       "      <th>temperature_120m</th>\n",
       "      <th>temperature_180m</th>\n",
       "      <th>pm10</th>\n",
       "      <th>pm2_5</th>\n",
       "      <th>carbon_monoxide</th>\n",
       "      <th>nitrogen_dioxide</th>\n",
       "      <th>sulphur_dioxide</th>\n",
       "      <th>ozone</th>\n",
       "      <th>dust</th>\n",
       "      <th>uv_index</th>\n",
       "    </tr>\n",
       "  </thead>\n",
       "  <tbody>\n",
       "    <tr>\n",
       "      <th>0</th>\n",
       "      <td>2024-09-11 11:00:00+00:00</td>\n",
       "      <td>13.3</td>\n",
       "      <td>97.10</td>\n",
       "      <td>27.75</td>\n",
       "      <td>85.0</td>\n",
       "      <td>24.996260</td>\n",
       "      <td>1007.6</td>\n",
       "      <td>1007.6</td>\n",
       "      <td>20.172853</td>\n",
       "      <td>22.768396</td>\n",
       "      <td>...</td>\n",
       "      <td>26.1</td>\n",
       "      <td>25.3</td>\n",
       "      <td>28.8</td>\n",
       "      <td>14.3</td>\n",
       "      <td>107.0</td>\n",
       "      <td>0.1</td>\n",
       "      <td>0.1</td>\n",
       "      <td>44.0</td>\n",
       "      <td>4.0</td>\n",
       "      <td>0.05</td>\n",
       "    </tr>\n",
       "    <tr>\n",
       "      <th>1</th>\n",
       "      <td>2024-09-11 11:00:00+00:00</td>\n",
       "      <td>13.3</td>\n",
       "      <td>97.25</td>\n",
       "      <td>27.55</td>\n",
       "      <td>87.0</td>\n",
       "      <td>25.190360</td>\n",
       "      <td>1007.6</td>\n",
       "      <td>1007.6</td>\n",
       "      <td>19.083395</td>\n",
       "      <td>20.883102</td>\n",
       "      <td>...</td>\n",
       "      <td>25.8</td>\n",
       "      <td>25.0</td>\n",
       "      <td>28.8</td>\n",
       "      <td>14.3</td>\n",
       "      <td>107.0</td>\n",
       "      <td>0.1</td>\n",
       "      <td>0.1</td>\n",
       "      <td>44.0</td>\n",
       "      <td>4.0</td>\n",
       "      <td>0.05</td>\n",
       "    </tr>\n",
       "    <tr>\n",
       "      <th>2</th>\n",
       "      <td>2024-09-11 11:00:00+00:00</td>\n",
       "      <td>13.3</td>\n",
       "      <td>97.40</td>\n",
       "      <td>27.45</td>\n",
       "      <td>87.0</td>\n",
       "      <td>25.092102</td>\n",
       "      <td>1007.7</td>\n",
       "      <td>1007.7</td>\n",
       "      <td>18.374111</td>\n",
       "      <td>20.172853</td>\n",
       "      <td>...</td>\n",
       "      <td>25.8</td>\n",
       "      <td>24.9</td>\n",
       "      <td>29.1</td>\n",
       "      <td>14.5</td>\n",
       "      <td>106.0</td>\n",
       "      <td>0.1</td>\n",
       "      <td>0.1</td>\n",
       "      <td>44.0</td>\n",
       "      <td>4.0</td>\n",
       "      <td>0.05</td>\n",
       "    </tr>\n",
       "    <tr>\n",
       "      <th>3</th>\n",
       "      <td>2024-09-11 11:00:00+00:00</td>\n",
       "      <td>13.3</td>\n",
       "      <td>97.55</td>\n",
       "      <td>27.45</td>\n",
       "      <td>88.0</td>\n",
       "      <td>25.284054</td>\n",
       "      <td>1007.7</td>\n",
       "      <td>1007.7</td>\n",
       "      <td>17.786331</td>\n",
       "      <td>19.586119</td>\n",
       "      <td>...</td>\n",
       "      <td>25.7</td>\n",
       "      <td>24.9</td>\n",
       "      <td>29.1</td>\n",
       "      <td>14.5</td>\n",
       "      <td>106.0</td>\n",
       "      <td>0.1</td>\n",
       "      <td>0.1</td>\n",
       "      <td>44.0</td>\n",
       "      <td>4.0</td>\n",
       "      <td>0.05</td>\n",
       "    </tr>\n",
       "    <tr>\n",
       "      <th>4</th>\n",
       "      <td>2024-09-11 11:00:00+00:00</td>\n",
       "      <td>13.3</td>\n",
       "      <td>97.70</td>\n",
       "      <td>27.40</td>\n",
       "      <td>88.0</td>\n",
       "      <td>25.234846</td>\n",
       "      <td>1007.7</td>\n",
       "      <td>1007.7</td>\n",
       "      <td>16.489416</td>\n",
       "      <td>17.786331</td>\n",
       "      <td>...</td>\n",
       "      <td>25.7</td>\n",
       "      <td>24.8</td>\n",
       "      <td>29.1</td>\n",
       "      <td>14.5</td>\n",
       "      <td>106.0</td>\n",
       "      <td>0.1</td>\n",
       "      <td>0.1</td>\n",
       "      <td>44.0</td>\n",
       "      <td>4.0</td>\n",
       "      <td>0.05</td>\n",
       "    </tr>\n",
       "  </tbody>\n",
       "</table>\n",
       "<p>5 rows × 27 columns</p>\n",
       "</div>"
      ],
      "text/plain": [
       "                       date  latitude  longitude  temperature_2m  \\\n",
       "0 2024-09-11 11:00:00+00:00      13.3      97.10           27.75   \n",
       "1 2024-09-11 11:00:00+00:00      13.3      97.25           27.55   \n",
       "2 2024-09-11 11:00:00+00:00      13.3      97.40           27.45   \n",
       "3 2024-09-11 11:00:00+00:00      13.3      97.55           27.45   \n",
       "4 2024-09-11 11:00:00+00:00      13.3      97.70           27.40   \n",
       "\n",
       "   relative_humidity_2m  dew_point_2m  pressure_msl  surface_pressure  \\\n",
       "0                  85.0     24.996260        1007.6            1007.6   \n",
       "1                  87.0     25.190360        1007.6            1007.6   \n",
       "2                  87.0     25.092102        1007.7            1007.7   \n",
       "3                  88.0     25.284054        1007.7            1007.7   \n",
       "4                  88.0     25.234846        1007.7            1007.7   \n",
       "\n",
       "   wind_speed_10m  wind_speed_80m  ...  temperature_120m  temperature_180m  \\\n",
       "0       20.172853       22.768396  ...              26.1              25.3   \n",
       "1       19.083395       20.883102  ...              25.8              25.0   \n",
       "2       18.374111       20.172853  ...              25.8              24.9   \n",
       "3       17.786331       19.586119  ...              25.7              24.9   \n",
       "4       16.489416       17.786331  ...              25.7              24.8   \n",
       "\n",
       "   pm10  pm2_5  carbon_monoxide  nitrogen_dioxide  sulphur_dioxide  ozone  \\\n",
       "0  28.8   14.3            107.0               0.1              0.1   44.0   \n",
       "1  28.8   14.3            107.0               0.1              0.1   44.0   \n",
       "2  29.1   14.5            106.0               0.1              0.1   44.0   \n",
       "3  29.1   14.5            106.0               0.1              0.1   44.0   \n",
       "4  29.1   14.5            106.0               0.1              0.1   44.0   \n",
       "\n",
       "   dust  uv_index  \n",
       "0   4.0      0.05  \n",
       "1   4.0      0.05  \n",
       "2   4.0      0.05  \n",
       "3   4.0      0.05  \n",
       "4   4.0      0.05  \n",
       "\n",
       "[5 rows x 27 columns]"
      ]
     },
     "execution_count": 21,
     "metadata": {},
     "output_type": "execute_result"
    }
   ],
   "source": [
    "# show sample combined data\n",
    "env_df.head()"
   ]
  },
  {
   "cell_type": "code",
   "execution_count": 22,
   "id": "432512a0-3533-49a9-b180-8b819b5e4b82",
   "metadata": {},
   "outputs": [],
   "source": [
    "# save to parquet format\n",
    "env_df.to_parquet('../data/processed/air_quality_data-20240911_20241211.parquet')"
   ]
  },
  {
   "cell_type": "markdown",
   "id": "67af606b-1a1d-4bd9-97a3-52d77f805842",
   "metadata": {},
   "source": [
    "---"
   ]
  },
  {
   "cell_type": "markdown",
   "id": "9c585f9d-fa9f-4d38-ae78-14e41bed1c14",
   "metadata": {},
   "source": [
    "##### Process Satellite Hotspot Dataset"
   ]
  },
  {
   "cell_type": "code",
   "execution_count": 25,
   "id": "23a97b56-1411-4d03-9679-5eaa07a79272",
   "metadata": {},
   "outputs": [
    {
     "name": "stdout",
     "output_type": "stream",
     "text": [
      "processing file fire_nrt_J1V-C2_557681.csv\n",
      "processing file fire_nrt_J2V-C2_557682.csv\n",
      "processing file fire_nrt_M-C61_557680.csv\n",
      "processing file fire_nrt_SV-C2_557683.csv\n"
     ]
    }
   ],
   "source": [
    "# list all data files\n",
    "files = list(os.walk(hotspot_dir))\n",
    "files = files.pop()\n",
    "\n",
    "# create new empty dataframe\n",
    "hotspot_df = pd.DataFrame()\n",
    "\n",
    "# process all files\n",
    "for file in files[2]:\n",
    "    if 'nrt' not in file:\n",
    "        continue\n",
    "    print(f'processing file {file}')\n",
    "\n",
    "    # read data from csv, and spectific data type to acq_time to prevent truncate leading zero\n",
    "    df = pd.read_csv(f'{files[0]}/{file}', dtype={'acq_time': 'object'})\n",
    "    \n",
    "    # construct a new datetime column by merging the existing date and time columns.\n",
    "    df['date'] = df['acq_date'] + ' ' + df['acq_time']\n",
    "    df['date'] = pd.to_datetime(df['date'], format='%Y-%m-%d %H%M', utc=True)\n",
    "    df.drop(['acq_date','acq_time'], inplace=True, axis=1)\n",
    "    \n",
    "    # concat all dataframe together\n",
    "    hotspot_df = pd.concat([hotspot_df, df])"
   ]
  },
  {
   "cell_type": "code",
   "execution_count": 26,
   "id": "942c307b-eab5-493a-885b-a7440d92ea6a",
   "metadata": {},
   "outputs": [
    {
     "data": {
      "text/html": [
       "<div>\n",
       "<style scoped>\n",
       "    .dataframe tbody tr th:only-of-type {\n",
       "        vertical-align: middle;\n",
       "    }\n",
       "\n",
       "    .dataframe tbody tr th {\n",
       "        vertical-align: top;\n",
       "    }\n",
       "\n",
       "    .dataframe thead th {\n",
       "        text-align: right;\n",
       "    }\n",
       "</style>\n",
       "<table border=\"1\" class=\"dataframe\">\n",
       "  <thead>\n",
       "    <tr style=\"text-align: right;\">\n",
       "      <th></th>\n",
       "      <th>latitude</th>\n",
       "      <th>longitude</th>\n",
       "      <th>brightness</th>\n",
       "      <th>scan</th>\n",
       "      <th>track</th>\n",
       "      <th>satellite</th>\n",
       "      <th>instrument</th>\n",
       "      <th>confidence</th>\n",
       "      <th>version</th>\n",
       "      <th>bright_t31</th>\n",
       "      <th>frp</th>\n",
       "      <th>daynight</th>\n",
       "      <th>date</th>\n",
       "    </tr>\n",
       "  </thead>\n",
       "  <tbody>\n",
       "  </tbody>\n",
       "</table>\n",
       "</div>"
      ],
      "text/plain": [
       "Empty DataFrame\n",
       "Columns: [latitude, longitude, brightness, scan, track, satellite, instrument, confidence, version, bright_t31, frp, daynight, date]\n",
       "Index: []"
      ]
     },
     "execution_count": 26,
     "metadata": {},
     "output_type": "execute_result"
    }
   ],
   "source": [
    "# check for duplicates rows\n",
    "hotspot_df[hotspot_df.duplicated(subset=['date','latitude','longitude','satellite'])]"
   ]
  },
  {
   "cell_type": "code",
   "execution_count": 27,
   "id": "9ab3d423-544a-4f6f-81ef-23b20fe0cc8e",
   "metadata": {},
   "outputs": [
    {
     "data": {
      "text/plain": [
       "latitude      0\n",
       "longitude     0\n",
       "brightness    0\n",
       "scan          0\n",
       "track         0\n",
       "satellite     0\n",
       "instrument    0\n",
       "confidence    0\n",
       "version       0\n",
       "bright_t31    0\n",
       "frp           0\n",
       "daynight      0\n",
       "date          0\n",
       "dtype: int64"
      ]
     },
     "execution_count": 27,
     "metadata": {},
     "output_type": "execute_result"
    }
   ],
   "source": [
    "# check for null values\n",
    "hotspot_df.isnull().sum()"
   ]
  },
  {
   "cell_type": "code",
   "execution_count": 28,
   "id": "e9a55a54-d25e-42ed-b37b-c9a84d56c9bb",
   "metadata": {},
   "outputs": [
    {
     "name": "stdout",
     "output_type": "stream",
     "text": [
      "<class 'pandas.core.frame.DataFrame'>\n",
      "Index: 333357 entries, 0 to 5950\n",
      "Data columns (total 13 columns):\n",
      " #   Column      Non-Null Count   Dtype              \n",
      "---  ------      --------------   -----              \n",
      " 0   latitude    333357 non-null  float64            \n",
      " 1   longitude   333357 non-null  float64            \n",
      " 2   brightness  333357 non-null  float64            \n",
      " 3   scan        333357 non-null  float64            \n",
      " 4   track       333357 non-null  float64            \n",
      " 5   satellite   333357 non-null  object             \n",
      " 6   instrument  333357 non-null  object             \n",
      " 7   confidence  333357 non-null  object             \n",
      " 8   version     333357 non-null  object             \n",
      " 9   bright_t31  333357 non-null  float64            \n",
      " 10  frp         333357 non-null  float64            \n",
      " 11  daynight    333357 non-null  object             \n",
      " 12  date        333357 non-null  datetime64[ns, UTC]\n",
      "dtypes: datetime64[ns, UTC](1), float64(7), object(5)\n",
      "memory usage: 35.6+ MB\n"
     ]
    }
   ],
   "source": [
    "# review data type\n",
    "hotspot_df.info()"
   ]
  },
  {
   "cell_type": "code",
   "execution_count": 29,
   "id": "56f5d2f2-8ab2-45f5-885c-06964bfe746e",
   "metadata": {},
   "outputs": [],
   "source": [
    "# convert confidence values to strings to avoid export errors\n",
    "hotspot_df['confidence'] = hotspot_df['confidence'].astype(str)"
   ]
  },
  {
   "cell_type": "code",
   "execution_count": 30,
   "id": "ec814bc3-6506-4944-8390-adabced209a6",
   "metadata": {},
   "outputs": [],
   "source": [
    "hotspot_df = hotspot_df.loc[(hotspot_df['date'] >= '2024-09-11 00:00:00+00:00') & \\\n",
    "                            (hotspot_df['date'] <= '2024-12-11 23:59:59+00:00')]"
   ]
  },
  {
   "cell_type": "code",
   "execution_count": 31,
   "id": "be28099f-f6b8-428f-9407-ab8e4b6a8e35",
   "metadata": {},
   "outputs": [],
   "source": [
    "# set index and export\n",
    "hotspot_df.set_index('date').to_parquet('../data/processed/sat_hotspot-20240911_20241211.parquet')"
   ]
  },
  {
   "cell_type": "markdown",
   "id": "57d918fb-c511-404b-9e09-dd1dcb8fadaf",
   "metadata": {},
   "source": [
    "#### Merge environment and satellite hotspot data"
   ]
  },
  {
   "cell_type": "code",
   "execution_count": 34,
   "id": "d76e2efd-e3cd-46d7-9d6e-e699ac336885",
   "metadata": {},
   "outputs": [],
   "source": [
    "# set coordinate degree step\n",
    "loc_step = 0.5\n",
    "round_div = 1 / loc_step\n",
    "loc_env_df = env_df.set_index(['date','latitude','longitude'], drop=False)\n",
    "loc_env_df = loc_env_df[(loc_env_df['date']>=pd.to_datetime('2024-11-01 00:00:00+00:00')) & \\\n",
    "                        (loc_env_df['date']<=pd.to_datetime('2024-11-30 23:59:59+00:00'))]\n",
    "\n",
    "# set index\n",
    "loc_hotspot_df = hotspot_df.set_index(['date','latitude','longitude'], drop=False)\n",
    "# round to loc_step\n",
    "loc_env_df['latitude'] = (loc_env_df['latitude'] * round_div).round() / round_div\n",
    "loc_env_df['longitude'] = (loc_env_df['longitude'] * round_div).round() / round_div\n",
    "\n",
    "# set index\n",
    "loc_hotspot_df = loc_hotspot_df.drop(columns=['date','latitude','longitude']).reset_index()\n",
    "\n",
    "# round to loc_step\n",
    "loc_hotspot_df['latitude'] = (loc_hotspot_df['latitude'] * round_div).round() / round_div\n",
    "loc_hotspot_df['longitude'] = (loc_hotspot_df['longitude'] * round_div).round() / round_div\n",
    "# round date to 12 hours\n",
    "loc_hotspot_df['date'] = loc_hotspot_df['date'].dt.round('12h')\n",
    "loc_hotspot_df.set_index(['date','latitude','longitude'], drop=False, inplace=True)"
   ]
  },
  {
   "cell_type": "code",
   "execution_count": 35,
   "id": "e7d52fe0-561c-4e6e-9335-d11b1c871fbe",
   "metadata": {},
   "outputs": [],
   "source": [
    "loc_hotspot_df['hotspot_num'] = loc_hotspot_df.drop(columns=['date','latitude','longitude']) \\\n",
    "                    .groupby(by=['date','latitude','longitude']).size()"
   ]
  },
  {
   "cell_type": "code",
   "execution_count": 36,
   "id": "51e12c24-bf66-436c-a6c1-3df1ffaafa43",
   "metadata": {},
   "outputs": [],
   "source": [
    "env_air_df = pd.merge(left=loc_env_df.set_index(['date','latitude','longitude']), \n",
    "                      right=loc_hotspot_df.set_index(['date','latitude','longitude'])[['hotspot_num']],\n",
    "                      left_index=True, right_index=True, how='left')\n",
    "env_air_df['hotspot_num'] = env_air_df['hotspot_num'].ffill()\n",
    "avg_env_air_df = env_air_df.reset_index().groupby(['date','latitude','longitude']).mean()"
   ]
  },
  {
   "cell_type": "code",
   "execution_count": 37,
   "id": "64027b0e-acb6-4745-aa9c-88de46954e5f",
   "metadata": {},
   "outputs": [],
   "source": [
    "# save to parquet format\n",
    "avg_env_air_df.to_parquet('../data/processed/air_quality_hotspot_data-20241101_20241130.parquet')"
   ]
  }
 ],
 "metadata": {
  "kernelspec": {
   "display_name": "Python 3 (ipykernel)",
   "language": "python",
   "name": "python3"
  },
  "language_info": {
   "codemirror_mode": {
    "name": "ipython",
    "version": 3
   },
   "file_extension": ".py",
   "mimetype": "text/x-python",
   "name": "python",
   "nbconvert_exporter": "python",
   "pygments_lexer": "ipython3",
   "version": "3.12.3"
  }
 },
 "nbformat": 4,
 "nbformat_minor": 5
}
