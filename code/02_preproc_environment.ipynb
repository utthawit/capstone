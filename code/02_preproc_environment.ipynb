{
 "cells": [
  {
   "cell_type": "markdown",
   "id": "e339f90b-2da5-46bc-8e20-c83351d96018",
   "metadata": {},
   "source": [
    "## Dataset Preprocessing Notebook"
   ]
  },
  {
   "cell_type": "markdown",
   "id": "e09e8bb7-03b9-4ff6-a27e-9cb0cbbbace6",
   "metadata": {},
   "source": [
    "#### Load request modules"
   ]
  },
  {
   "cell_type": "code",
   "execution_count": 1,
   "id": "0e58798b-3db0-4c51-baf3-57042c40db33",
   "metadata": {},
   "outputs": [],
   "source": [
    "import pandas as pd\n",
    "import numpy as np\n",
    "import seaborn as sns\n",
    "import matplotlib.pyplot as plt\n",
    "import requests\n",
    "import os\n",
    "from urllib.parse import urlparse\n",
    "from os.path import basename\n",
    "from rich.progress import track"
   ]
  },
  {
   "cell_type": "markdown",
   "id": "0d70aa66-83c8-4939-beda-63cb9c108a44",
   "metadata": {},
   "source": [
    "#### Load weather and air quality data"
   ]
  },
  {
   "cell_type": "code",
   "execution_count": 3,
   "id": "aa09d90c-8425-4536-b482-3afaf04c3434",
   "metadata": {},
   "outputs": [
    {
     "data": {
      "application/vnd.jupyter.widget-view+json": {
       "model_id": "7686e8d58dab468f99f1f883aadbbc65",
       "version_major": 2,
       "version_minor": 0
      },
      "text/plain": [
       "Output()"
      ]
     },
     "metadata": {},
     "output_type": "display_data"
    },
    {
     "name": "stdout",
     "output_type": "stream",
     "text": [
      "Getting file air_quality-13t20_97t106_20240910_20241211.csv.bz2\n"
     ]
    },
    {
     "data": {
      "text/html": [
       "<pre style=\"white-space:pre;overflow-x:auto;line-height:normal;font-family:Menlo,'DejaVu Sans Mono',consolas,'Courier New',monospace\"></pre>\n"
      ],
      "text/plain": []
     },
     "metadata": {},
     "output_type": "display_data"
    },
    {
     "data": {
      "text/html": [
       "<pre style=\"white-space:pre;overflow-x:auto;line-height:normal;font-family:Menlo,'DejaVu Sans Mono',consolas,'Courier New',monospace\">\n",
       "</pre>\n"
      ],
      "text/plain": [
       "\n"
      ]
     },
     "metadata": {},
     "output_type": "display_data"
    },
    {
     "name": "stdout",
     "output_type": "stream",
     "text": [
      "Getting file weather-13t20_97t106_20240910_20241211.csv.bz2\n"
     ]
    },
    {
     "data": {
      "application/vnd.jupyter.widget-view+json": {
       "model_id": "98d3ad15bc6642fb89cf71fe80594079",
       "version_major": 2,
       "version_minor": 0
      },
      "text/plain": [
       "Output()"
      ]
     },
     "metadata": {},
     "output_type": "display_data"
    },
    {
     "data": {
      "text/html": [
       "<pre style=\"white-space:pre;overflow-x:auto;line-height:normal;font-family:Menlo,'DejaVu Sans Mono',consolas,'Courier New',monospace\"></pre>\n"
      ],
      "text/plain": []
     },
     "metadata": {},
     "output_type": "display_data"
    },
    {
     "data": {
      "text/html": [
       "<pre style=\"white-space:pre;overflow-x:auto;line-height:normal;font-family:Menlo,'DejaVu Sans Mono',consolas,'Courier New',monospace\">\n",
       "</pre>\n"
      ],
      "text/plain": [
       "\n"
      ]
     },
     "metadata": {},
     "output_type": "display_data"
    },
    {
     "name": "stdout",
     "output_type": "stream",
     "text": [
      "Done...\n"
     ]
    }
   ],
   "source": [
    "# download file from cloud storage\n",
    "\n",
    "base_dir = '../data'\n",
    "chunk_size = 10_240\n",
    "urls = ['https://pub-6924d15baafa48c6a31c2d212b094174.r2.dev/environment/air_quality-13t20_97t106_20240910_20241211.csv.bz2',\n",
    "        'https://pub-6924d15baafa48c6a31c2d212b094174.r2.dev/environment/weather-13t20_97t106_20240910_20241211.csv.bz2']\n",
    "\n",
    "for url in urls:\n",
    "    file = basename(url)\n",
    "    parse_url = urlparse(url)\n",
    "    print(f'Getting file {file}')\n",
    "    with requests.get(url, stream=True) as res:\n",
    "        if res.ok:\n",
    "            size = int(res.headers.get('Content-Length'))\n",
    "            with open(f'{base_dir}{parse_url.path}', 'wb') as f:\n",
    "                for chuck in track(res.iter_content(chunk_size), total=size/chunk_size, description='Download...'):\n",
    "                    f.write(chuck)\n",
    "        else:\n",
    "            print(f'Error getting file!!!')\n",
    "print('Done...')"
   ]
  },
  {
   "cell_type": "code",
   "execution_count": 4,
   "id": "f0cf9f34-a18d-4f08-9007-8779d5c64772",
   "metadata": {},
   "outputs": [],
   "source": [
    "weather_df = pd.read_csv('../data/environment/weather-13t20_97t106_20240910_20241211.csv.bz2')\n",
    "air_quality_df = pd.read_csv('../data/environment/air_quality-13t20_97t106_20240910_20241211.csv.bz2')"
   ]
  },
  {
   "cell_type": "markdown",
   "id": "3d926148-d52a-490a-93ff-e481a4735d7b",
   "metadata": {},
   "source": [
    "#### Clean data"
   ]
  },
  {
   "cell_type": "markdown",
   "id": "108670a6-d66a-43b5-933b-7460fe2cf8ff",
   "metadata": {},
   "source": [
    "##### Process Weather Dataset"
   ]
  },
  {
   "cell_type": "code",
   "execution_count": 7,
   "id": "d3d882a9-086c-4de5-aa51-1e9b2ad817e2",
   "metadata": {},
   "outputs": [
    {
     "data": {
      "text/plain": [
       "date                         0\n",
       "latitude                     0\n",
       "longitude                    0\n",
       "temperature_2m           30096\n",
       "relative_humidity_2m     30096\n",
       "dew_point_2m             30096\n",
       "pressure_msl             30096\n",
       "surface_pressure         30096\n",
       "visibility              363888\n",
       "wind_speed_10m           30096\n",
       "wind_speed_80m           30096\n",
       "wind_speed_100m         363888\n",
       "wind_speed_120m          30096\n",
       "wind_speed_180m          30096\n",
       "wind_direction_10m       30096\n",
       "wind_direction_80m       30096\n",
       "wind_direction_100m     363888\n",
       "wind_direction_120m      30096\n",
       "wind_direction_180m      30096\n",
       "temperature_80m          30096\n",
       "temperature_120m         30096\n",
       "temperature_180m         30096\n",
       "type                         0\n",
       "dtype: int64"
      ]
     },
     "execution_count": 7,
     "metadata": {},
     "output_type": "execute_result"
    }
   ],
   "source": [
    "# check weather for null columns\n",
    "weather_df.isnull().sum()"
   ]
  },
  {
   "cell_type": "code",
   "execution_count": 8,
   "id": "4a87fbac-3f91-433c-b7d8-861eb4166b99",
   "metadata": {},
   "outputs": [
    {
     "data": {
      "text/plain": [
       "date                    0\n",
       "latitude                0\n",
       "longitude               0\n",
       "temperature_2m          0\n",
       "relative_humidity_2m    0\n",
       "dew_point_2m            0\n",
       "pressure_msl            0\n",
       "surface_pressure        0\n",
       "wind_speed_10m          0\n",
       "wind_speed_80m          0\n",
       "wind_speed_120m         0\n",
       "wind_speed_180m         0\n",
       "wind_direction_10m      0\n",
       "wind_direction_80m      0\n",
       "wind_direction_120m     0\n",
       "wind_direction_180m     0\n",
       "temperature_80m         0\n",
       "temperature_120m        0\n",
       "temperature_180m        0\n",
       "dtype: int64"
      ]
     },
     "execution_count": 8,
     "metadata": {},
     "output_type": "execute_result"
    }
   ],
   "source": [
    "# drop unused column\n",
    "weather_df.drop(columns=['type', 'visibility', 'wind_speed_100m', \n",
    "                         'wind_direction_100m'], inplace=True, errors='ignore')\n",
    "# delete column with null temperature\n",
    "weather_df.dropna(subset=['temperature_2m'], inplace=True)\n",
    "\n",
    "# convert column date to datetime\n",
    "weather_df['date'] = pd.to_datetime(weather_df['date'], utc=True, format='ISO8601')\n",
    "\n",
    "# check weather for null columns\n",
    "weather_df.isnull().sum()"
   ]
  },
  {
   "cell_type": "markdown",
   "id": "b103294e-3a5f-4d29-9767-374ed0003212",
   "metadata": {},
   "source": [
    "##### Process Air Quality Dataset"
   ]
  },
  {
   "cell_type": "code",
   "execution_count": 10,
   "id": "2d018f42-169a-4106-9d61-f7992b41c7e8",
   "metadata": {},
   "outputs": [
    {
     "data": {
      "text/plain": [
       "date                      0\n",
       "latitude                  0\n",
       "longitude                 0\n",
       "pm10                      0\n",
       "pm2_5                     0\n",
       "carbon_monoxide           0\n",
       "carbon_dioxide      3020544\n",
       "nitrogen_dioxide          0\n",
       "sulphur_dioxide           0\n",
       "ozone                     0\n",
       "dust                      0\n",
       "uv_index                  0\n",
       "type                      0\n",
       "dtype: int64"
      ]
     },
     "execution_count": 10,
     "metadata": {},
     "output_type": "execute_result"
    }
   ],
   "source": [
    "# check air quality for null columns\n",
    "air_quality_df.isnull().sum()"
   ]
  },
  {
   "cell_type": "code",
   "execution_count": 11,
   "id": "7b2f76de-d9fa-40df-b8ef-d273cc42860c",
   "metadata": {},
   "outputs": [],
   "source": [
    "# drop unused column\n",
    "air_quality_df.drop(columns=['type','carbon_dioxide'], inplace=True, errors='ignore')\n",
    "\n",
    "# convert column date to datetime\n",
    "air_quality_df['date'] = pd.to_datetime(air_quality_df['date'], utc=True, format='ISO8601')"
   ]
  },
  {
   "cell_type": "code",
   "execution_count": 12,
   "id": "10b9bdda-dc56-4797-b528-adc9f6b50c85",
   "metadata": {},
   "outputs": [
    {
     "data": {
      "text/plain": [
       "date                0\n",
       "latitude            0\n",
       "longitude           0\n",
       "pm10                0\n",
       "pm2_5               0\n",
       "carbon_monoxide     0\n",
       "nitrogen_dioxide    0\n",
       "sulphur_dioxide     0\n",
       "ozone               0\n",
       "dust                0\n",
       "uv_index            0\n",
       "dtype: int64"
      ]
     },
     "execution_count": 12,
     "metadata": {},
     "output_type": "execute_result"
    }
   ],
   "source": [
    "# check air quality for null columns\n",
    "air_quality_df.isnull().sum()"
   ]
  },
  {
   "cell_type": "code",
   "execution_count": 13,
   "id": "98cb14e4-6df0-4ee7-9f32-af547b46ab5f",
   "metadata": {},
   "outputs": [
    {
     "data": {
      "text/plain": [
       "count                                6076656\n",
       "mean     2024-10-26 17:00:00.000001024+00:00\n",
       "min                2024-09-10 11:00:00+00:00\n",
       "25%                2024-10-03 14:00:00+00:00\n",
       "50%                2024-10-26 17:00:00+00:00\n",
       "75%                2024-11-18 20:00:00+00:00\n",
       "max                2024-12-11 23:00:00+00:00\n",
       "Name: date, dtype: object"
      ]
     },
     "execution_count": 13,
     "metadata": {},
     "output_type": "execute_result"
    }
   ],
   "source": [
    "# review data date range for weather\n",
    "weather_df['date'].describe()"
   ]
  },
  {
   "cell_type": "code",
   "execution_count": 14,
   "id": "e26d87c3-c456-445e-ae49-55b1b41827b0",
   "metadata": {},
   "outputs": [
    {
     "data": {
      "text/plain": [
       "count                                6106752\n",
       "mean     2024-10-26 11:29:59.999999232+00:00\n",
       "min                2024-09-10 00:00:00+00:00\n",
       "25%                2024-10-03 05:45:00+00:00\n",
       "50%                2024-10-26 11:30:00+00:00\n",
       "75%                2024-11-18 17:15:00+00:00\n",
       "max                2024-12-11 23:00:00+00:00\n",
       "Name: date, dtype: object"
      ]
     },
     "execution_count": 14,
     "metadata": {},
     "output_type": "execute_result"
    }
   ],
   "source": [
    "# review data date range for air quality\n",
    "air_quality_df['date'].describe()"
   ]
  },
  {
   "cell_type": "code",
   "execution_count": 15,
   "id": "6bc149e1-4790-4435-b2ac-cdb62a052d0b",
   "metadata": {},
   "outputs": [],
   "source": [
    "# filter data date range to the same as both\n",
    "weather_df = weather_df.loc[(weather_df['date'] >= '2024-09-10 11:00:00+00:00') & \\\n",
    "                                    (weather_df['date'] <= '2024-12-05 11:00:00+00:00')]"
   ]
  },
  {
   "cell_type": "code",
   "execution_count": 16,
   "id": "6e1e1839-d865-4784-99b9-a68a2011fc63",
   "metadata": {},
   "outputs": [],
   "source": [
    "# filter air quality data date range as same as\n",
    "air_quality_df = air_quality_df.loc[(air_quality_df['date'] >= '2024-09-10 11:00:00+00:00') & \\\n",
    "                                    (air_quality_df['date'] <= '2024-12-05 11:00:00+00:00')]"
   ]
  },
  {
   "cell_type": "code",
   "execution_count": 17,
   "id": "5c352848-79de-4958-93f3-9bdd672fc0b9",
   "metadata": {},
   "outputs": [],
   "source": [
    "weather_df1 = weather_df.copy()\n",
    "weather_df1.set_index(['date', 'latitude', 'longitude'], drop=True, inplace=True)\n",
    "\n",
    "air_quality_df1 = air_quality_df.copy()\n",
    "air_quality_df1.set_index(['date', 'latitude', 'longitude'], drop=True, inplace=True)\n",
    "\n",
    "# combine weather and air quality\n",
    "env_df = pd.concat([weather_df1, air_quality_df1], axis=1)"
   ]
  },
  {
   "cell_type": "code",
   "execution_count": 18,
   "id": "72098f2b-9b3f-4064-91a2-277206a90fbb",
   "metadata": {},
   "outputs": [
    {
     "data": {
      "text/html": [
       "<div>\n",
       "<style scoped>\n",
       "    .dataframe tbody tr th:only-of-type {\n",
       "        vertical-align: middle;\n",
       "    }\n",
       "\n",
       "    .dataframe tbody tr th {\n",
       "        vertical-align: top;\n",
       "    }\n",
       "\n",
       "    .dataframe thead th {\n",
       "        text-align: right;\n",
       "    }\n",
       "</style>\n",
       "<table border=\"1\" class=\"dataframe\">\n",
       "  <thead>\n",
       "    <tr style=\"text-align: right;\">\n",
       "      <th></th>\n",
       "      <th></th>\n",
       "      <th></th>\n",
       "      <th>temperature_2m</th>\n",
       "      <th>relative_humidity_2m</th>\n",
       "      <th>dew_point_2m</th>\n",
       "      <th>pressure_msl</th>\n",
       "      <th>surface_pressure</th>\n",
       "      <th>wind_speed_10m</th>\n",
       "      <th>wind_speed_80m</th>\n",
       "      <th>wind_speed_120m</th>\n",
       "      <th>wind_speed_180m</th>\n",
       "      <th>wind_direction_10m</th>\n",
       "      <th>...</th>\n",
       "      <th>temperature_120m</th>\n",
       "      <th>temperature_180m</th>\n",
       "      <th>pm10</th>\n",
       "      <th>pm2_5</th>\n",
       "      <th>carbon_monoxide</th>\n",
       "      <th>nitrogen_dioxide</th>\n",
       "      <th>sulphur_dioxide</th>\n",
       "      <th>ozone</th>\n",
       "      <th>dust</th>\n",
       "      <th>uv_index</th>\n",
       "    </tr>\n",
       "    <tr>\n",
       "      <th>date</th>\n",
       "      <th>latitude</th>\n",
       "      <th>longitude</th>\n",
       "      <th></th>\n",
       "      <th></th>\n",
       "      <th></th>\n",
       "      <th></th>\n",
       "      <th></th>\n",
       "      <th></th>\n",
       "      <th></th>\n",
       "      <th></th>\n",
       "      <th></th>\n",
       "      <th></th>\n",
       "      <th></th>\n",
       "      <th></th>\n",
       "      <th></th>\n",
       "      <th></th>\n",
       "      <th></th>\n",
       "      <th></th>\n",
       "      <th></th>\n",
       "      <th></th>\n",
       "      <th></th>\n",
       "      <th></th>\n",
       "      <th></th>\n",
       "    </tr>\n",
       "  </thead>\n",
       "  <tbody>\n",
       "    <tr>\n",
       "      <th rowspan=\"5\" valign=\"top\">2024-09-10 11:00:00+00:00</th>\n",
       "      <th rowspan=\"5\" valign=\"top\">13.3</th>\n",
       "      <th>97.10</th>\n",
       "      <td>27.75</td>\n",
       "      <td>88.0</td>\n",
       "      <td>25.579264</td>\n",
       "      <td>1006.6</td>\n",
       "      <td>1006.6</td>\n",
       "      <td>21.175835</td>\n",
       "      <td>24.248613</td>\n",
       "      <td>24.933735</td>\n",
       "      <td>25.729298</td>\n",
       "      <td>252.18102</td>\n",
       "      <td>...</td>\n",
       "      <td>26.1</td>\n",
       "      <td>25.3</td>\n",
       "      <td>32.5</td>\n",
       "      <td>15.7</td>\n",
       "      <td>106.0</td>\n",
       "      <td>0.1</td>\n",
       "      <td>0.2</td>\n",
       "      <td>42.0</td>\n",
       "      <td>8.0</td>\n",
       "      <td>0.05</td>\n",
       "    </tr>\n",
       "    <tr>\n",
       "      <th>97.25</th>\n",
       "      <td>27.70</td>\n",
       "      <td>88.0</td>\n",
       "      <td>25.530062</td>\n",
       "      <td>1006.7</td>\n",
       "      <td>1006.7</td>\n",
       "      <td>20.491560</td>\n",
       "      <td>23.452555</td>\n",
       "      <td>23.795427</td>\n",
       "      <td>24.138800</td>\n",
       "      <td>251.56496</td>\n",
       "      <td>...</td>\n",
       "      <td>26.0</td>\n",
       "      <td>25.2</td>\n",
       "      <td>32.5</td>\n",
       "      <td>15.7</td>\n",
       "      <td>106.0</td>\n",
       "      <td>0.1</td>\n",
       "      <td>0.2</td>\n",
       "      <td>42.0</td>\n",
       "      <td>8.0</td>\n",
       "      <td>0.05</td>\n",
       "    </tr>\n",
       "    <tr>\n",
       "      <th>97.40</th>\n",
       "      <td>27.70</td>\n",
       "      <td>87.0</td>\n",
       "      <td>25.337757</td>\n",
       "      <td>1006.7</td>\n",
       "      <td>1006.7</td>\n",
       "      <td>20.491560</td>\n",
       "      <td>22.768398</td>\n",
       "      <td>23.565567</td>\n",
       "      <td>23.906818</td>\n",
       "      <td>251.56496</td>\n",
       "      <td>...</td>\n",
       "      <td>26.0</td>\n",
       "      <td>25.2</td>\n",
       "      <td>31.0</td>\n",
       "      <td>15.1</td>\n",
       "      <td>107.0</td>\n",
       "      <td>0.1</td>\n",
       "      <td>0.2</td>\n",
       "      <td>41.0</td>\n",
       "      <td>7.0</td>\n",
       "      <td>0.05</td>\n",
       "    </tr>\n",
       "    <tr>\n",
       "      <th>97.55</th>\n",
       "      <td>27.70</td>\n",
       "      <td>87.0</td>\n",
       "      <td>25.337757</td>\n",
       "      <td>1006.8</td>\n",
       "      <td>1006.8</td>\n",
       "      <td>19.694992</td>\n",
       "      <td>21.971800</td>\n",
       "      <td>22.314194</td>\n",
       "      <td>23.110205</td>\n",
       "      <td>251.89613</td>\n",
       "      <td>...</td>\n",
       "      <td>26.0</td>\n",
       "      <td>25.2</td>\n",
       "      <td>31.0</td>\n",
       "      <td>15.1</td>\n",
       "      <td>107.0</td>\n",
       "      <td>0.1</td>\n",
       "      <td>0.2</td>\n",
       "      <td>41.0</td>\n",
       "      <td>7.0</td>\n",
       "      <td>0.05</td>\n",
       "    </tr>\n",
       "    <tr>\n",
       "      <th>97.70</th>\n",
       "      <td>27.70</td>\n",
       "      <td>87.0</td>\n",
       "      <td>25.337757</td>\n",
       "      <td>1006.8</td>\n",
       "      <td>1006.8</td>\n",
       "      <td>18.671474</td>\n",
       "      <td>20.833395</td>\n",
       "      <td>21.288757</td>\n",
       "      <td>21.629978</td>\n",
       "      <td>250.86626</td>\n",
       "      <td>...</td>\n",
       "      <td>26.0</td>\n",
       "      <td>25.2</td>\n",
       "      <td>31.0</td>\n",
       "      <td>15.1</td>\n",
       "      <td>107.0</td>\n",
       "      <td>0.1</td>\n",
       "      <td>0.2</td>\n",
       "      <td>41.0</td>\n",
       "      <td>7.0</td>\n",
       "      <td>0.05</td>\n",
       "    </tr>\n",
       "  </tbody>\n",
       "</table>\n",
       "<p>5 rows × 24 columns</p>\n",
       "</div>"
      ],
      "text/plain": [
       "                                              temperature_2m  \\\n",
       "date                      latitude longitude                   \n",
       "2024-09-10 11:00:00+00:00 13.3     97.10               27.75   \n",
       "                                   97.25               27.70   \n",
       "                                   97.40               27.70   \n",
       "                                   97.55               27.70   \n",
       "                                   97.70               27.70   \n",
       "\n",
       "                                              relative_humidity_2m  \\\n",
       "date                      latitude longitude                         \n",
       "2024-09-10 11:00:00+00:00 13.3     97.10                      88.0   \n",
       "                                   97.25                      88.0   \n",
       "                                   97.40                      87.0   \n",
       "                                   97.55                      87.0   \n",
       "                                   97.70                      87.0   \n",
       "\n",
       "                                              dew_point_2m  pressure_msl  \\\n",
       "date                      latitude longitude                               \n",
       "2024-09-10 11:00:00+00:00 13.3     97.10         25.579264        1006.6   \n",
       "                                   97.25         25.530062        1006.7   \n",
       "                                   97.40         25.337757        1006.7   \n",
       "                                   97.55         25.337757        1006.8   \n",
       "                                   97.70         25.337757        1006.8   \n",
       "\n",
       "                                              surface_pressure  \\\n",
       "date                      latitude longitude                     \n",
       "2024-09-10 11:00:00+00:00 13.3     97.10                1006.6   \n",
       "                                   97.25                1006.7   \n",
       "                                   97.40                1006.7   \n",
       "                                   97.55                1006.8   \n",
       "                                   97.70                1006.8   \n",
       "\n",
       "                                              wind_speed_10m  wind_speed_80m  \\\n",
       "date                      latitude longitude                                   \n",
       "2024-09-10 11:00:00+00:00 13.3     97.10           21.175835       24.248613   \n",
       "                                   97.25           20.491560       23.452555   \n",
       "                                   97.40           20.491560       22.768398   \n",
       "                                   97.55           19.694992       21.971800   \n",
       "                                   97.70           18.671474       20.833395   \n",
       "\n",
       "                                              wind_speed_120m  \\\n",
       "date                      latitude longitude                    \n",
       "2024-09-10 11:00:00+00:00 13.3     97.10            24.933735   \n",
       "                                   97.25            23.795427   \n",
       "                                   97.40            23.565567   \n",
       "                                   97.55            22.314194   \n",
       "                                   97.70            21.288757   \n",
       "\n",
       "                                              wind_speed_180m  \\\n",
       "date                      latitude longitude                    \n",
       "2024-09-10 11:00:00+00:00 13.3     97.10            25.729298   \n",
       "                                   97.25            24.138800   \n",
       "                                   97.40            23.906818   \n",
       "                                   97.55            23.110205   \n",
       "                                   97.70            21.629978   \n",
       "\n",
       "                                              wind_direction_10m  ...  \\\n",
       "date                      latitude longitude                      ...   \n",
       "2024-09-10 11:00:00+00:00 13.3     97.10               252.18102  ...   \n",
       "                                   97.25               251.56496  ...   \n",
       "                                   97.40               251.56496  ...   \n",
       "                                   97.55               251.89613  ...   \n",
       "                                   97.70               250.86626  ...   \n",
       "\n",
       "                                              temperature_120m  \\\n",
       "date                      latitude longitude                     \n",
       "2024-09-10 11:00:00+00:00 13.3     97.10                  26.1   \n",
       "                                   97.25                  26.0   \n",
       "                                   97.40                  26.0   \n",
       "                                   97.55                  26.0   \n",
       "                                   97.70                  26.0   \n",
       "\n",
       "                                              temperature_180m  pm10  pm2_5  \\\n",
       "date                      latitude longitude                                  \n",
       "2024-09-10 11:00:00+00:00 13.3     97.10                  25.3  32.5   15.7   \n",
       "                                   97.25                  25.2  32.5   15.7   \n",
       "                                   97.40                  25.2  31.0   15.1   \n",
       "                                   97.55                  25.2  31.0   15.1   \n",
       "                                   97.70                  25.2  31.0   15.1   \n",
       "\n",
       "                                              carbon_monoxide  \\\n",
       "date                      latitude longitude                    \n",
       "2024-09-10 11:00:00+00:00 13.3     97.10                106.0   \n",
       "                                   97.25                106.0   \n",
       "                                   97.40                107.0   \n",
       "                                   97.55                107.0   \n",
       "                                   97.70                107.0   \n",
       "\n",
       "                                              nitrogen_dioxide  \\\n",
       "date                      latitude longitude                     \n",
       "2024-09-10 11:00:00+00:00 13.3     97.10                   0.1   \n",
       "                                   97.25                   0.1   \n",
       "                                   97.40                   0.1   \n",
       "                                   97.55                   0.1   \n",
       "                                   97.70                   0.1   \n",
       "\n",
       "                                              sulphur_dioxide  ozone  dust  \\\n",
       "date                      latitude longitude                                 \n",
       "2024-09-10 11:00:00+00:00 13.3     97.10                  0.2   42.0   8.0   \n",
       "                                   97.25                  0.2   42.0   8.0   \n",
       "                                   97.40                  0.2   41.0   7.0   \n",
       "                                   97.55                  0.2   41.0   7.0   \n",
       "                                   97.70                  0.2   41.0   7.0   \n",
       "\n",
       "                                              uv_index  \n",
       "date                      latitude longitude            \n",
       "2024-09-10 11:00:00+00:00 13.3     97.10          0.05  \n",
       "                                   97.25          0.05  \n",
       "                                   97.40          0.05  \n",
       "                                   97.55          0.05  \n",
       "                                   97.70          0.05  \n",
       "\n",
       "[5 rows x 24 columns]"
      ]
     },
     "execution_count": 18,
     "metadata": {},
     "output_type": "execute_result"
    }
   ],
   "source": [
    "# show sample combined data\n",
    "env_df.head()"
   ]
  },
  {
   "cell_type": "code",
   "execution_count": 19,
   "id": "6c737032-c34f-46e5-bda1-30308df1ade6",
   "metadata": {},
   "outputs": [],
   "source": [
    "# save to parquet format\n",
    "env_df.to_parquet('../data/environment/combine_data-20240911_20241211.parquet')"
   ]
  }
 ],
 "metadata": {
  "kernelspec": {
   "display_name": "Python 3 (ipykernel)",
   "language": "python",
   "name": "python3"
  },
  "language_info": {
   "codemirror_mode": {
    "name": "ipython",
    "version": 3
   },
   "file_extension": ".py",
   "mimetype": "text/x-python",
   "name": "python",
   "nbconvert_exporter": "python",
   "pygments_lexer": "ipython3",
   "version": "3.12.3"
  }
 },
 "nbformat": 4,
 "nbformat_minor": 5
}
