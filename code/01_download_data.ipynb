{
 "cells": [
  {
   "cell_type": "markdown",
   "id": "ecab808d-b869-4773-9283-c6ad3b1a4985",
   "metadata": {},
   "source": [
    "## Dataset Gathering"
   ]
  },
  {
   "cell_type": "markdown",
   "id": "40534f1e-674f-4459-8fa0-e2d2e07975a7",
   "metadata": {},
   "source": [
    "### Environmental Data\n",
    "- Forecast Weather Data\n",
    "- Air-Quality Data"
   ]
  },
  {
   "cell_type": "markdown",
   "id": "3bb83aad-411f-433e-b17e-04e67eaca483",
   "metadata": {},
   "source": [
    "#### How to run\n",
    "\n",
    "##### Required Installed Modules\n",
    "\n",
    "<pre>pip install openmeteo_requests requests_cache retry_requests rich python-dotenv</pre>\n",
    "\n",
    "\n",
    "You have two options for running the `data_downloader.py` script: execute it directly from the command line or use this notebook to trigger it.\n",
    "\n",
    "##### API Key\n",
    "\n",
    "The free tier of [Open-Meteo.com](https://open-meteo.com) allows 10,000 calls per day, which might not be sufficient for large-scale needs. To access 1 million requests per month, a subscription is required. To use subscription with this script, create a .env file in the same directory as a script with a line below:\n",
    "\n",
    "\n",
    "OPENMETEO_API_KEY=`YOUR_API_KEY`\n",
    "\n",
    "\n",
    "Replace `YOUR_API_KEY` with your actual API key"
   ]
  },
  {
   "cell_type": "markdown",
   "id": "1fb6265c-b348-425e-815d-db223de1b984",
   "metadata": {},
   "source": [
    "##### From command line\n",
    "_Example for small run_\n",
    "- Request date: `2024-12-01 00:00:00+00:00` to `2024-12-01 23:59:59+00:00`\n",
    "- Latitude range: `13.0°` - `14.0°`\n",
    "- Longitude range `99.0°` - `100.0°`\n",
    "\n",
    "_Commands are_\n",
    "\n",
    "<pre>\n",
    "./data_downloader.py --type=weather --start-date='2024-12-01 00:00:00+00:00' --end-date='2024-12-01 23:59:59+00:00' --start-lat=13 --end-lat=14 --start-long=99 --end-long=100\n",
    "./data_downloader.py --type=air_quality --start-date='2024-12-01 00:00:00+00:00' --end-date='2024-12-01 23:59:59+00:00' --start-lat=13 --end-lat=14 --start-long=99 --end-long=100</pre>"
   ]
  },
  {
   "cell_type": "markdown",
   "id": "fe9df72a-994d-461b-8e50-831feb0be067",
   "metadata": {},
   "source": [
    "##### From Notebook"
   ]
  },
  {
   "cell_type": "code",
   "execution_count": null,
   "id": "67315ed8-d2e5-4130-ac38-95b2df18591a",
   "metadata": {},
   "outputs": [],
   "source": [
    "# import required modules\n",
    "from datetime import datetime\n",
    "import data_downloader as dl"
   ]
  },
  {
   "cell_type": "code",
   "execution_count": null,
   "id": "1d3c9efb-e9d0-4f6c-a7e4-3c2100dd58f0",
   "metadata": {},
   "outputs": [
    {
     "data": {
      "application/vnd.jupyter.widget-view+json": {
       "model_id": "44ca9ae118e446bfbd38d114cc4d07d6",
       "version_major": 2,
       "version_minor": 0
      },
      "text/plain": [
       "Output()"
      ]
     },
     "metadata": {},
     "output_type": "display_data"
    }
   ],
   "source": [
    "start_date=datetime.fromisoformat('2024-12-01 00:00:00+00:00')\n",
    "end_date=datetime.fromisoformat('2024-12-01 23:59:59+00:00')\n",
    "\n",
    "dl.scan_region(start_date=start_date, \n",
    "               end_date=end_date,\n",
    "               start_lat=13.0, end_lat=13.5,\n",
    "               start_long=99, end_long=99.5\n",
    "              )"
   ]
  },
  {
   "cell_type": "markdown",
   "id": "ca6f5996-d673-42c9-ad82-5980dfe58fbc",
   "metadata": {},
   "source": [
    "The weather- and air_quality- data will be stored in the ../data/environment/ directory."
   ]
  },
  {
   "cell_type": "markdown",
   "id": "ce04f5b7-4bb5-4d37-bfc0-47c0f6f5c9d6",
   "metadata": {},
   "source": [
    "#### Provided dataset\n",
    "Actual Thailand coordinate ranges\n",
    "  - Latitude range 5° 37' north to 20° 27' north\n",
    "  - Longitude range 97° 22' east to 105° 37' east\n",
    "\n",
    "For this project, I focused on the upper region of Thailand, where most pollution occurs.\n",
    "\n",
    "I've executed the script with my subscription, specifying the following parameters:\n",
    "\n",
    "- Date range: From September 11, 2024, to December 11, 2024\n",
    "- Latitude range: Between 13.3° and 20.35°\n",
    "- Longitude range: Between 97.1° and 105.5°\""
   ]
  },
  {
   "cell_type": "code",
   "execution_count": null,
   "id": "f61ddf3b-9caa-4620-b980-2262fbfcba44",
   "metadata": {},
   "outputs": [],
   "source": []
  }
 ],
 "metadata": {
  "kernelspec": {
   "display_name": "Python 3 (ipykernel)",
   "language": "python",
   "name": "python3"
  },
  "language_info": {
   "codemirror_mode": {
    "name": "ipython",
    "version": 3
   },
   "file_extension": ".py",
   "mimetype": "text/x-python",
   "name": "python",
   "nbconvert_exporter": "python",
   "pygments_lexer": "ipython3",
   "version": "3.12.3"
  }
 },
 "nbformat": 4,
 "nbformat_minor": 5
}
