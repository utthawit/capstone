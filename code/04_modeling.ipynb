{
 "cells": [
  {
   "cell_type": "markdown",
   "id": "40bbea8e-593c-4460-843c-34a848f5f11f",
   "metadata": {},
   "source": [
    "## Modeling Notebook"
   ]
  },
  {
   "cell_type": "markdown",
   "id": "2cb10408-cc25-462e-89f6-fb3c0aa9423e",
   "metadata": {},
   "source": [
    "#### Load request modules"
   ]
  },
  {
   "cell_type": "code",
   "execution_count": 3,
   "id": "72dafc08-a8d2-4834-ada5-573ea4d407aa",
   "metadata": {},
   "outputs": [],
   "source": [
    "import pandas as pd\n",
    "import numpy as np\n",
    "import seaborn as sns\n",
    "import matplotlib.pyplot as plt\n",
    "import xgboost as xgb\n",
    "from pickle import dump\n",
    "from sklearn.preprocessing import StandardScaler\n",
    "from sklearn.linear_model import LinearRegression, ElasticNet\n",
    "from sklearn.ensemble import RandomForestRegressor\n",
    "from sklearn.decomposition import PCA\n",
    "from sklearn.model_selection import train_test_split, GridSearchCV\n",
    "from sklearn.pipeline import Pipeline\n",
    "from sklearn.metrics import root_mean_squared_error"
   ]
  },
  {
   "cell_type": "markdown",
   "id": "a0049700-86de-45c5-b526-dfe216a8d1b0",
   "metadata": {},
   "source": [
    "#### Load data"
   ]
  },
  {
   "cell_type": "code",
   "execution_count": 5,
   "id": "3aee7757-dc09-4d7d-af7e-1dd7600ac4a8",
   "metadata": {},
   "outputs": [],
   "source": [
    "raw_env_air_df = pd.read_parquet('../data/processed/air_quality_hotspot_data-20241101_20241130.parquet')"
   ]
  },
  {
   "cell_type": "markdown",
   "id": "a509071e-cba3-4431-a4fe-86fbdfedc456",
   "metadata": {},
   "source": [
    "#### Merge environment and satellite hotspot data"
   ]
  },
  {
   "cell_type": "code",
   "execution_count": 7,
   "id": "f9e154fe-63f3-4965-8bef-f36544e31323",
   "metadata": {},
   "outputs": [],
   "source": [
    "# limit date range\n",
    "env_air_df = raw_env_air_df.reset_index().copy()\n",
    "env_air_df = env_air_df[\n",
    "(env_air_df['date']>='2024-11-27 00:00:00+00:00') & \\\n",
    "(env_air_df['date']<='2024-11-30 23:59:59+00:00')].reset_index().copy() #.set_index(['date','latitude','longitude'])"
   ]
  },
  {
   "cell_type": "code",
   "execution_count": 8,
   "id": "af893cdd-9003-44fb-a7c3-7eaf8cfd238e",
   "metadata": {},
   "outputs": [],
   "source": [
    "# set coordinate degree step\n",
    "def downsamping(env_air_df, loc_step=0.5):\n",
    "    df = env_air_df.copy().drop(columns=['index'])\n",
    "    round_div = 1 / loc_step\n",
    "    \n",
    "    # downsampling coordinate\n",
    "    df['latitude'] = (df['latitude'] * round_div).round() / round_div\n",
    "    df['longitude'] = (df['longitude'] * round_div).round() / round_div\n",
    "    res = df.groupby(['date','latitude','longitude']).mean()\n",
    "    \n",
    "    return res"
   ]
  },
  {
   "cell_type": "code",
   "execution_count": 9,
   "id": "f57cad39-27fa-4f9c-91cb-3b343a52b142",
   "metadata": {},
   "outputs": [],
   "source": [
    "# set momdel variables\n",
    "def split_data(avg_env_air_df):\n",
    "    X = avg_env_air_df[[c for c in avg_env_air_df.columns if c not in ['pm10','pm2_5','carbon_monoxide','nitrogen_dioxide','sulphur_dioxide','ozone','dust']]]\n",
    "    y = avg_env_air_df[['pm2_5']]\n",
    "    X.shape, y.shape\n",
    "    \n",
    "    # # split data for train and test\n",
    "    return train_test_split(X, y, train_size=0.8, random_state=42)"
   ]
  },
  {
   "cell_type": "markdown",
   "id": "6e5982b4-75ae-4995-a409-95a692500157",
   "metadata": {},
   "source": [
    "#### Defined models"
   ]
  },
  {
   "cell_type": "code",
   "execution_count": 11,
   "id": "d5347497-c976-488e-ba7f-bc2c362344ce",
   "metadata": {},
   "outputs": [],
   "source": [
    "def run_model(models, X_train, X_test, y_train, y_test):\n",
    "    scores = []\n",
    "    \n",
    "    for i, model in enumerate(models):\n",
    "        if 'Forest' in model['name'] and type(y_train) == pd.DataFrame:\n",
    "            y_train = y_train.values.ravel()\n",
    "            y_test = y_test.values.ravel()\n",
    "        grid = GridSearchCV(model['pipeline'], param_grid=model['param'], n_jobs=8, cv=5)\n",
    "        grid.fit(X_train, y_train)\n",
    "        models[i]['fit_model'] = grid.best_estimator_.fit(X_train, y_train)\n",
    "        models[i]['model'] = grid.best_estimator_\n",
    "        print(f'Running model: {i}. {model[\"name\"]}')\n",
    "        preds = grid.predict(X_test)\n",
    "        #plot_pred(y_test, preds)\n",
    "        scores.append({'name':model['name'],\n",
    "                       'cv_score': grid.best_score_,\n",
    "                       'train_score': grid.best_estimator_.score(X_train, y_train),\n",
    "                       'test_score': grid.best_estimator_.score(X_test, y_test),\n",
    "                       'test_rmse': root_mean_squared_error(y_test, preds),\n",
    "                      })\n",
    "    print('-'*70)\n",
    "    score_df = pd.DataFrame(scores).set_index('name')\n",
    "    return models, score_df"
   ]
  },
  {
   "cell_type": "markdown",
   "id": "9cac322a-8ce0-46d1-bc44-e4fb8be9a2f3",
   "metadata": {},
   "source": [
    "---"
   ]
  },
  {
   "cell_type": "code",
   "execution_count": 13,
   "id": "0c7ed777-e630-43e8-94e5-4947b37b6645",
   "metadata": {},
   "outputs": [],
   "source": [
    "# plot test vs. predict\n",
    "def plot_pred(y_test, preds):\n",
    "    sns.scatterplot(x=pd.Series(y_test.values[:,-1]), y=pd.Series(preds));\n",
    "    plt.title('Test vs. Predict')\n",
    "    plt.xlabel('Test')\n",
    "    plt.ylabel('Predict')\n",
    "    plt.show()"
   ]
  },
  {
   "cell_type": "code",
   "execution_count": null,
   "id": "cee6cc38-c049-4218-8752-c3c374ae77b9",
   "metadata": {},
   "outputs": [],
   "source": []
  },
  {
   "cell_type": "code",
   "execution_count": 14,
   "id": "9c6ac1ee-84b7-4df2-b64f-f83d0939f47f",
   "metadata": {},
   "outputs": [
    {
     "name": "stdout",
     "output_type": "stream",
     "text": [
      "Running model: 0. Linear Regression\n",
      "Running model: 1. XGBoost\n",
      "Running model: 2. ElasticNet\n",
      "Running model: 3. Random Forest\n",
      "Running model: 4. Random Forest PCA\n",
      "----------------------------------------------------------------------\n"
     ]
    }
   ],
   "source": [
    "avg_env_air_df = downsamping(env_air_df, loc_step=0.5)\n",
    "X_train, X_test, y_train, y_test = split_data(avg_env_air_df)\n",
    "\n",
    "#avg_env_air_df.head(5)\n",
    "\n",
    "models = [\n",
    "    {'name': 'Linear Regression',\n",
    "     'pipeline': Pipeline([\n",
    "                ('sc', StandardScaler()),\n",
    "                ('lr', LinearRegression())\n",
    "              ]), \n",
    "     'param': {\n",
    "     }\n",
    "    },\n",
    "    {'name': 'XGBoost',\n",
    "     'pipeline': Pipeline([\n",
    "                ('sc', StandardScaler()),\n",
    "                ('xgb', xgb.XGBRFRegressor())\n",
    "             ]), \n",
    "     'param': {'xgb__learning_rate': [1]}\n",
    "    },\n",
    "    {'name': 'ElasticNet',\n",
    "     'pipeline': Pipeline([\n",
    "                ('sc', StandardScaler()),\n",
    "                ('esn', ElasticNet())\n",
    "             ]), \n",
    "     'param': {\n",
    "         'esn__alpha': [0.1, 0.5, 1],\n",
    "         'esn__max_iter': [10, 100, 500, 1000],\n",
    "     }\n",
    "    },\n",
    "    {'name': 'Random Forest',\n",
    "     'pipeline': Pipeline([\n",
    "                ('sc', StandardScaler()),\n",
    "                ('rf', RandomForestRegressor())\n",
    "             ]), \n",
    "     'param': {},\n",
    "    },\n",
    "    {'name': 'Random Forest PCA',\n",
    "     'pipeline': Pipeline([\n",
    "                ('sc', StandardScaler()),\n",
    "                ('pca', PCA()),\n",
    "                ('rf', RandomForestRegressor())\n",
    "             ]), \n",
    "     'param': {},\n",
    "    },\n",
    "]\n",
    "\n",
    "models, scores = run_model(models, X_train, X_test, y_train, y_test)"
   ]
  },
  {
   "cell_type": "code",
   "execution_count": 15,
   "id": "0758fe78-a1b9-41d7-824d-f2db37871997",
   "metadata": {},
   "outputs": [
    {
     "data": {
      "text/html": [
       "<div>\n",
       "<style scoped>\n",
       "    .dataframe tbody tr th:only-of-type {\n",
       "        vertical-align: middle;\n",
       "    }\n",
       "\n",
       "    .dataframe tbody tr th {\n",
       "        vertical-align: top;\n",
       "    }\n",
       "\n",
       "    .dataframe thead th {\n",
       "        text-align: right;\n",
       "    }\n",
       "</style>\n",
       "<table border=\"1\" class=\"dataframe\">\n",
       "  <thead>\n",
       "    <tr style=\"text-align: right;\">\n",
       "      <th></th>\n",
       "      <th>cv_score</th>\n",
       "      <th>train_score</th>\n",
       "      <th>test_score</th>\n",
       "      <th>test_rmse</th>\n",
       "    </tr>\n",
       "    <tr>\n",
       "      <th>name</th>\n",
       "      <th></th>\n",
       "      <th></th>\n",
       "      <th></th>\n",
       "      <th></th>\n",
       "    </tr>\n",
       "  </thead>\n",
       "  <tbody>\n",
       "    <tr>\n",
       "      <th>Random Forest</th>\n",
       "      <td>0.83</td>\n",
       "      <td>0.98</td>\n",
       "      <td>0.83</td>\n",
       "      <td>2.69</td>\n",
       "    </tr>\n",
       "    <tr>\n",
       "      <th>Random Forest PCA</th>\n",
       "      <td>0.79</td>\n",
       "      <td>0.97</td>\n",
       "      <td>0.79</td>\n",
       "      <td>2.97</td>\n",
       "    </tr>\n",
       "    <tr>\n",
       "      <th>XGBoost</th>\n",
       "      <td>0.62</td>\n",
       "      <td>0.64</td>\n",
       "      <td>0.59</td>\n",
       "      <td>4.15</td>\n",
       "    </tr>\n",
       "    <tr>\n",
       "      <th>Linear Regression</th>\n",
       "      <td>0.48</td>\n",
       "      <td>0.48</td>\n",
       "      <td>0.46</td>\n",
       "      <td>4.73</td>\n",
       "    </tr>\n",
       "    <tr>\n",
       "      <th>ElasticNet</th>\n",
       "      <td>0.46</td>\n",
       "      <td>0.46</td>\n",
       "      <td>0.44</td>\n",
       "      <td>4.82</td>\n",
       "    </tr>\n",
       "  </tbody>\n",
       "</table>\n",
       "</div>"
      ],
      "text/plain": [
       "                   cv_score  train_score  test_score  test_rmse\n",
       "name                                                           \n",
       "Random Forest          0.83         0.98        0.83       2.69\n",
       "Random Forest PCA      0.79         0.97        0.79       2.97\n",
       "XGBoost                0.62         0.64        0.59       4.15\n",
       "Linear Regression      0.48         0.48        0.46       4.73\n",
       "ElasticNet             0.46         0.46        0.44       4.82"
      ]
     },
     "execution_count": 15,
     "metadata": {},
     "output_type": "execute_result"
    }
   ],
   "source": [
    "scores.sort_values(by='cv_score', ascending=False).round(2)"
   ]
  },
  {
   "cell_type": "markdown",
   "id": "2a2c2a96-4904-494c-bc1b-6dd722142a5a",
   "metadata": {},
   "source": [
    "#### Choose and save the RandomForestRegressor\n",
    "It has highest cross validation score and lowest RMSE"
   ]
  },
  {
   "cell_type": "code",
   "execution_count": 17,
   "id": "a428f292-a0bb-4fe8-b01e-a5f23adcc1fa",
   "metadata": {},
   "outputs": [],
   "source": [
    "# fit the model\n",
    "model = RandomForestRegressor()\n",
    "sc = StandardScaler()\n",
    "X_train_sc = sc.fit_transform(X_train)\n",
    "X_test_sc = sc.transform(X_test)\n",
    "model.fit(X_train_sc, y_train.values.ravel())\n",
    "\n",
    "# save model\n",
    "with open('../data/processed/model_rf_20241127_30.pkl', 'wb') as f:\n",
    "     dump(model, f, protocol=5)"
   ]
  },
  {
   "cell_type": "code",
   "execution_count": null,
   "id": "c3215600-e9ae-4f1d-b77b-906ada262805",
   "metadata": {},
   "outputs": [],
   "source": []
  }
 ],
 "metadata": {
  "kernelspec": {
   "display_name": "Python 3 (ipykernel)",
   "language": "python",
   "name": "python3"
  },
  "language_info": {
   "codemirror_mode": {
    "name": "ipython",
    "version": 3
   },
   "file_extension": ".py",
   "mimetype": "text/x-python",
   "name": "python",
   "nbconvert_exporter": "python",
   "pygments_lexer": "ipython3",
   "version": "3.12.3"
  }
 },
 "nbformat": 4,
 "nbformat_minor": 5
}
