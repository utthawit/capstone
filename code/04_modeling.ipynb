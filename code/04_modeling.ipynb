{
 "cells": [
  {
   "cell_type": "markdown",
   "id": "40bbea8e-593c-4460-843c-34a848f5f11f",
   "metadata": {},
   "source": [
    "## Modeling Notebook"
   ]
  },
  {
   "cell_type": "markdown",
   "id": "9f980b9a-c6f1-4a27-a9e9-908916758583",
   "metadata": {},
   "source": [
    "<a id=\"top\"></a>\n",
    "Jump to\n",
    "- [Classical Regression](#regression)\n",
    "- [Deep Learning](#deep_learning)"
   ]
  },
  {
   "cell_type": "markdown",
   "id": "2cb10408-cc25-462e-89f6-fb3c0aa9423e",
   "metadata": {},
   "source": [
    "#### Load request modules"
   ]
  },
  {
   "cell_type": "code",
   "execution_count": 486,
   "id": "72dafc08-a8d2-4834-ada5-573ea4d407aa",
   "metadata": {},
   "outputs": [],
   "source": [
    "import pandas as pd\n",
    "import numpy as np\n",
    "import seaborn as sns\n",
    "import matplotlib.pyplot as plt\n",
    "import xgboost as xgb\n",
    "from pickle import dump\n",
    "from sklearn.preprocessing import StandardScaler\n",
    "from sklearn.linear_model import LinearRegression, ElasticNet\n",
    "from sklearn.ensemble import RandomForestRegressor\n",
    "from sklearn.decomposition import PCA\n",
    "from sklearn.model_selection import train_test_split, GridSearchCV\n",
    "from sklearn.pipeline import Pipeline\n",
    "from sklearn.metrics import root_mean_squared_error\n",
    "\n",
    "import tensorflow as tf\n",
    "from tensorflow.keras import Sequential\n",
    "from tensorflow.keras.layers import LSTM, Flatten, Dense, InputLayer\n",
    "from tensorflow.keras.metrics import R2Score\n",
    "from sklearn.preprocessing import MinMaxScaler"
   ]
  },
  {
   "cell_type": "markdown",
   "id": "a0049700-86de-45c5-b526-dfe216a8d1b0",
   "metadata": {},
   "source": [
    "#### Load data"
   ]
  },
  {
   "cell_type": "code",
   "execution_count": 5,
   "id": "3aee7757-dc09-4d7d-af7e-1dd7600ac4a8",
   "metadata": {},
   "outputs": [],
   "source": [
    "raw_env_air_df = pd.read_parquet('../data/processed/air_quality_hotspot_data-20241101_20241130.parquet')"
   ]
  },
  {
   "cell_type": "markdown",
   "id": "a509071e-cba3-4431-a4fe-86fbdfedc456",
   "metadata": {},
   "source": [
    "#### Merge environment and satellite hotspot data"
   ]
  },
  {
   "cell_type": "code",
   "execution_count": 112,
   "id": "f9e154fe-63f3-4965-8bef-f36544e31323",
   "metadata": {},
   "outputs": [],
   "source": [
    "# limit date range\n",
    "env_air_df = raw_env_air_df.reset_index().copy()\n",
    "env_air_df = env_air_df[\n",
    "(env_air_df['date']>='2024-11-27 00:00:00+00:00') & \\\n",
    "(env_air_df['date']<='2024-11-30 23:59:59+00:00')].reset_index().copy() #.set_index(['date','latitude','longitude'])"
   ]
  },
  {
   "cell_type": "code",
   "execution_count": 113,
   "id": "af893cdd-9003-44fb-a7c3-7eaf8cfd238e",
   "metadata": {},
   "outputs": [],
   "source": [
    "# set coordinate degree step\n",
    "def downsamping(env_air_df, loc_step=0.5):\n",
    "    df = env_air_df.copy().drop(columns=['index'])\n",
    "    round_div = 1 / loc_step\n",
    "    \n",
    "    # downsampling coordinate\n",
    "    df['latitude'] = (df['latitude'] * round_div).round() / round_div\n",
    "    df['longitude'] = (df['longitude'] * round_div).round() / round_div\n",
    "    res = df.groupby(['date','latitude','longitude']).mean()\n",
    "    \n",
    "    return res"
   ]
  },
  {
   "cell_type": "code",
   "execution_count": 116,
   "id": "f57cad39-27fa-4f9c-91cb-3b343a52b142",
   "metadata": {},
   "outputs": [],
   "source": [
    "# set momdel variables\n",
    "def split_data(avg_env_air_df):\n",
    "    X = avg_env_air_df[[c for c in avg_env_air_df.columns if c not in ['pm10','pm2_5','carbon_monoxide','nitrogen_dioxide','sulphur_dioxide','ozone','dust']]]\n",
    "    y = avg_env_air_df[['pm2_5']]\n",
    "    X.shape, y.shape\n",
    "    \n",
    "    # # split data for train and test\n",
    "    return train_test_split(X, y, train_size=0.8, random_state=42)"
   ]
  },
  {
   "cell_type": "markdown",
   "id": "6e5982b4-75ae-4995-a409-95a692500157",
   "metadata": {},
   "source": [
    "#### Defined models"
   ]
  },
  {
   "cell_type": "code",
   "execution_count": 118,
   "id": "d5347497-c976-488e-ba7f-bc2c362344ce",
   "metadata": {},
   "outputs": [],
   "source": [
    "def run_model(models, X_train, X_test, y_train, y_test):\n",
    "    scores = []\n",
    "    \n",
    "    for i, model in enumerate(models):\n",
    "        if 'Forest' in model['name'] and type(y_train) == pd.DataFrame:\n",
    "            y_train = y_train.values.ravel()\n",
    "            y_test = y_test.values.ravel()\n",
    "        grid = GridSearchCV(model['pipeline'], param_grid=model['param'], n_jobs=8, cv=5)\n",
    "        grid.fit(X_train, y_train)\n",
    "        models[i]['fit_model'] = grid.best_estimator_.fit(X_train, y_train)\n",
    "        models[i]['model'] = grid.best_estimator_\n",
    "        print(f'Running model: {i}. {model[\"name\"]}')\n",
    "        preds = grid.predict(X_test)\n",
    "        #plot_pred(y_test, preds)\n",
    "        scores.append({'name':model['name'],\n",
    "                       'cv_score': grid.best_score_,\n",
    "                       'train_score': grid.best_estimator_.score(X_train, y_train),\n",
    "                       'test_score': grid.best_estimator_.score(X_test, y_test),\n",
    "                       'test_rmse': root_mean_squared_error(y_test, preds),\n",
    "                      })\n",
    "    print('-'*70)\n",
    "    score_df = pd.DataFrame(scores).set_index('name')\n",
    "    return models, score_df"
   ]
  },
  {
   "cell_type": "markdown",
   "id": "9cac322a-8ce0-46d1-bc44-e4fb8be9a2f3",
   "metadata": {},
   "source": [
    "---"
   ]
  },
  {
   "cell_type": "code",
   "execution_count": 120,
   "id": "0c7ed777-e630-43e8-94e5-4947b37b6645",
   "metadata": {},
   "outputs": [],
   "source": [
    "# plot test vs. predict\n",
    "def plot_pred(y_test, preds):\n",
    "    sns.scatterplot(x=pd.Series(y_test.values[:,-1]), y=pd.Series(preds));\n",
    "    plt.title('Test vs. Predict')\n",
    "    plt.xlabel('Test')\n",
    "    plt.ylabel('Predict')\n",
    "    plt.show()"
   ]
  },
  {
   "cell_type": "code",
   "execution_count": 122,
   "id": "cee6cc38-c049-4218-8752-c3c374ae77b9",
   "metadata": {},
   "outputs": [],
   "source": [
    "# preprocess data\n",
    "avg_env_air_df = downsamping(env_air_df, loc_step=0.5)\n",
    "X_train, X_test, y_train, y_test = split_data(avg_env_air_df)"
   ]
  },
  {
   "cell_type": "code",
   "execution_count": 14,
   "id": "9c6ac1ee-84b7-4df2-b64f-f83d0939f47f",
   "metadata": {},
   "outputs": [
    {
     "name": "stdout",
     "output_type": "stream",
     "text": [
      "Running model: 0. Linear Regression\n",
      "Running model: 1. XGBoost\n",
      "Running model: 2. ElasticNet\n",
      "Running model: 3. Random Forest\n",
      "Running model: 4. Random Forest PCA\n",
      "----------------------------------------------------------------------\n"
     ]
    }
   ],
   "source": [
    "#avg_env_air_df.head(5)\n",
    "\n",
    "models = [\n",
    "    {'name': 'Linear Regression',\n",
    "     'pipeline': Pipeline([\n",
    "                ('sc', StandardScaler()),\n",
    "                ('lr', LinearRegression())\n",
    "              ]), \n",
    "     'param': {\n",
    "     }\n",
    "    },\n",
    "    {'name': 'XGBoost',\n",
    "     'pipeline': Pipeline([\n",
    "                ('sc', StandardScaler()),\n",
    "                ('xgb', xgb.XGBRFRegressor())\n",
    "             ]), \n",
    "     'param': {'xgb__learning_rate': [1]}\n",
    "    },\n",
    "    {'name': 'ElasticNet',\n",
    "     'pipeline': Pipeline([\n",
    "                ('sc', StandardScaler()),\n",
    "                ('esn', ElasticNet())\n",
    "             ]), \n",
    "     'param': {\n",
    "         'esn__alpha': [0.1, 0.5, 1],\n",
    "         'esn__max_iter': [10, 100, 500, 1000],\n",
    "     }\n",
    "    },\n",
    "    {'name': 'Random Forest',\n",
    "     'pipeline': Pipeline([\n",
    "                ('sc', StandardScaler()),\n",
    "                ('rf', RandomForestRegressor())\n",
    "             ]), \n",
    "     'param': {},\n",
    "    },\n",
    "    {'name': 'Random Forest PCA',\n",
    "     'pipeline': Pipeline([\n",
    "                ('sc', StandardScaler()),\n",
    "                ('pca', PCA()),\n",
    "                ('rf', RandomForestRegressor())\n",
    "             ]), \n",
    "     'param': {},\n",
    "    },\n",
    "]\n",
    "\n",
    "models, scores = run_model(models, X_train, X_test, y_train, y_test)"
   ]
  },
  {
   "cell_type": "markdown",
   "id": "e78b02b0-cb9f-4561-8d1c-b35505765daa",
   "metadata": {},
   "source": [
    "<a id='regression'></a>\n",
    "#### Classical Regression\n",
    "[Top](#top)"
   ]
  },
  {
   "cell_type": "code",
   "execution_count": 15,
   "id": "0758fe78-a1b9-41d7-824d-f2db37871997",
   "metadata": {},
   "outputs": [
    {
     "data": {
      "text/html": [
       "<div>\n",
       "<style scoped>\n",
       "    .dataframe tbody tr th:only-of-type {\n",
       "        vertical-align: middle;\n",
       "    }\n",
       "\n",
       "    .dataframe tbody tr th {\n",
       "        vertical-align: top;\n",
       "    }\n",
       "\n",
       "    .dataframe thead th {\n",
       "        text-align: right;\n",
       "    }\n",
       "</style>\n",
       "<table border=\"1\" class=\"dataframe\">\n",
       "  <thead>\n",
       "    <tr style=\"text-align: right;\">\n",
       "      <th></th>\n",
       "      <th>cv_score</th>\n",
       "      <th>train_score</th>\n",
       "      <th>test_score</th>\n",
       "      <th>test_rmse</th>\n",
       "    </tr>\n",
       "    <tr>\n",
       "      <th>name</th>\n",
       "      <th></th>\n",
       "      <th></th>\n",
       "      <th></th>\n",
       "      <th></th>\n",
       "    </tr>\n",
       "  </thead>\n",
       "  <tbody>\n",
       "    <tr>\n",
       "      <th>Random Forest</th>\n",
       "      <td>0.83</td>\n",
       "      <td>0.98</td>\n",
       "      <td>0.83</td>\n",
       "      <td>2.69</td>\n",
       "    </tr>\n",
       "    <tr>\n",
       "      <th>Random Forest PCA</th>\n",
       "      <td>0.79</td>\n",
       "      <td>0.97</td>\n",
       "      <td>0.79</td>\n",
       "      <td>2.97</td>\n",
       "    </tr>\n",
       "    <tr>\n",
       "      <th>XGBoost</th>\n",
       "      <td>0.62</td>\n",
       "      <td>0.64</td>\n",
       "      <td>0.59</td>\n",
       "      <td>4.15</td>\n",
       "    </tr>\n",
       "    <tr>\n",
       "      <th>Linear Regression</th>\n",
       "      <td>0.48</td>\n",
       "      <td>0.48</td>\n",
       "      <td>0.46</td>\n",
       "      <td>4.73</td>\n",
       "    </tr>\n",
       "    <tr>\n",
       "      <th>ElasticNet</th>\n",
       "      <td>0.46</td>\n",
       "      <td>0.46</td>\n",
       "      <td>0.44</td>\n",
       "      <td>4.82</td>\n",
       "    </tr>\n",
       "  </tbody>\n",
       "</table>\n",
       "</div>"
      ],
      "text/plain": [
       "                   cv_score  train_score  test_score  test_rmse\n",
       "name                                                           \n",
       "Random Forest          0.83         0.98        0.83       2.69\n",
       "Random Forest PCA      0.79         0.97        0.79       2.97\n",
       "XGBoost                0.62         0.64        0.59       4.15\n",
       "Linear Regression      0.48         0.48        0.46       4.73\n",
       "ElasticNet             0.46         0.46        0.44       4.82"
      ]
     },
     "execution_count": 15,
     "metadata": {},
     "output_type": "execute_result"
    }
   ],
   "source": [
    "scores.sort_values(by='cv_score', ascending=False).round(2)"
   ]
  },
  {
   "cell_type": "markdown",
   "id": "2a2c2a96-4904-494c-bc1b-6dd722142a5a",
   "metadata": {},
   "source": [
    "#### Choose and save the RandomForestRegressor\n",
    "It has highest cross validation score and lowest RMSE"
   ]
  },
  {
   "cell_type": "code",
   "execution_count": 36,
   "id": "a428f292-a0bb-4fe8-b01e-a5f23adcc1fa",
   "metadata": {},
   "outputs": [],
   "source": [
    "# fit the model\n",
    "model = RandomForestRegressor()\n",
    "sc = StandardScaler()\n",
    "X_train_sc = sc.fit_transform(X_train)\n",
    "X_test_sc = sc.transform(X_test)\n",
    "model.fit(X_train_sc, y_train.values.ravel())\n",
    "\n",
    "# save model\n",
    "with open('../data/processed/model_rf_20241127_30.pkl', 'wb') as f:\n",
    "     dump(model, f, protocol=5)"
   ]
  },
  {
   "cell_type": "code",
   "execution_count": 37,
   "id": "c3215600-e9ae-4f1d-b77b-906ada262805",
   "metadata": {},
   "outputs": [
    {
     "data": {
      "text/html": [
       "<div>\n",
       "<style scoped>\n",
       "    .dataframe tbody tr th:only-of-type {\n",
       "        vertical-align: middle;\n",
       "    }\n",
       "\n",
       "    .dataframe tbody tr th {\n",
       "        vertical-align: top;\n",
       "    }\n",
       "\n",
       "    .dataframe thead th {\n",
       "        text-align: right;\n",
       "    }\n",
       "</style>\n",
       "<table border=\"1\" class=\"dataframe\">\n",
       "  <thead>\n",
       "    <tr style=\"text-align: right;\">\n",
       "      <th></th>\n",
       "      <th>importances</th>\n",
       "      <th>feature</th>\n",
       "    </tr>\n",
       "  </thead>\n",
       "  <tbody>\n",
       "    <tr>\n",
       "      <th>3</th>\n",
       "      <td>0.307351</td>\n",
       "      <td>pressure_msl</td>\n",
       "    </tr>\n",
       "    <tr>\n",
       "      <th>0</th>\n",
       "      <td>0.107632</td>\n",
       "      <td>temperature_2m</td>\n",
       "    </tr>\n",
       "    <tr>\n",
       "      <th>4</th>\n",
       "      <td>0.099965</td>\n",
       "      <td>surface_pressure</td>\n",
       "    </tr>\n",
       "    <tr>\n",
       "      <th>2</th>\n",
       "      <td>0.080252</td>\n",
       "      <td>dew_point_2m</td>\n",
       "    </tr>\n",
       "    <tr>\n",
       "      <th>16</th>\n",
       "      <td>0.072654</td>\n",
       "      <td>uv_index</td>\n",
       "    </tr>\n",
       "    <tr>\n",
       "      <th>6</th>\n",
       "      <td>0.045496</td>\n",
       "      <td>wind_speed_80m</td>\n",
       "    </tr>\n",
       "    <tr>\n",
       "      <th>9</th>\n",
       "      <td>0.044240</td>\n",
       "      <td>wind_direction_10m</td>\n",
       "    </tr>\n",
       "    <tr>\n",
       "      <th>8</th>\n",
       "      <td>0.036925</td>\n",
       "      <td>wind_speed_180m</td>\n",
       "    </tr>\n",
       "    <tr>\n",
       "      <th>5</th>\n",
       "      <td>0.034412</td>\n",
       "      <td>wind_speed_10m</td>\n",
       "    </tr>\n",
       "    <tr>\n",
       "      <th>1</th>\n",
       "      <td>0.032282</td>\n",
       "      <td>relative_humidity_2m</td>\n",
       "    </tr>\n",
       "    <tr>\n",
       "      <th>12</th>\n",
       "      <td>0.024918</td>\n",
       "      <td>wind_direction_180m</td>\n",
       "    </tr>\n",
       "    <tr>\n",
       "      <th>15</th>\n",
       "      <td>0.024565</td>\n",
       "      <td>temperature_180m</td>\n",
       "    </tr>\n",
       "    <tr>\n",
       "      <th>7</th>\n",
       "      <td>0.020404</td>\n",
       "      <td>wind_speed_120m</td>\n",
       "    </tr>\n",
       "    <tr>\n",
       "      <th>10</th>\n",
       "      <td>0.017451</td>\n",
       "      <td>wind_direction_80m</td>\n",
       "    </tr>\n",
       "    <tr>\n",
       "      <th>11</th>\n",
       "      <td>0.015663</td>\n",
       "      <td>wind_direction_120m</td>\n",
       "    </tr>\n",
       "    <tr>\n",
       "      <th>13</th>\n",
       "      <td>0.013810</td>\n",
       "      <td>temperature_80m</td>\n",
       "    </tr>\n",
       "    <tr>\n",
       "      <th>17</th>\n",
       "      <td>0.011177</td>\n",
       "      <td>hotspot_num</td>\n",
       "    </tr>\n",
       "    <tr>\n",
       "      <th>14</th>\n",
       "      <td>0.010802</td>\n",
       "      <td>temperature_120m</td>\n",
       "    </tr>\n",
       "  </tbody>\n",
       "</table>\n",
       "</div>"
      ],
      "text/plain": [
       "    importances               feature\n",
       "3      0.307351          pressure_msl\n",
       "0      0.107632        temperature_2m\n",
       "4      0.099965      surface_pressure\n",
       "2      0.080252          dew_point_2m\n",
       "16     0.072654              uv_index\n",
       "6      0.045496        wind_speed_80m\n",
       "9      0.044240    wind_direction_10m\n",
       "8      0.036925       wind_speed_180m\n",
       "5      0.034412        wind_speed_10m\n",
       "1      0.032282  relative_humidity_2m\n",
       "12     0.024918   wind_direction_180m\n",
       "15     0.024565      temperature_180m\n",
       "7      0.020404       wind_speed_120m\n",
       "10     0.017451    wind_direction_80m\n",
       "11     0.015663   wind_direction_120m\n",
       "13     0.013810       temperature_80m\n",
       "17     0.011177           hotspot_num\n",
       "14     0.010802      temperature_120m"
      ]
     },
     "execution_count": 37,
     "metadata": {},
     "output_type": "execute_result"
    }
   ],
   "source": [
    "# find importance features\n",
    "feature_df = pd.DataFrame({'importances': model.feature_importances_, \n",
    "                           'feature': X_train.columns\n",
    "                          })\n",
    "feature_df.sort_values(by='importances', ascending=False)"
   ]
  },
  {
   "cell_type": "markdown",
   "id": "fbeb10be-de30-4b28-ae6e-a5a7e5bd40a6",
   "metadata": {},
   "source": [
    "<a id='deep_learning'></a>\n",
    "#### Deep Learning\n",
    "Long Short-Term Memory (LSTM)\n",
    "\n",
    "[Top](#top)"
   ]
  },
  {
   "cell_type": "code",
   "execution_count": 609,
   "id": "961893c6-b199-42ac-a286-c0cb85b0749e",
   "metadata": {},
   "outputs": [],
   "source": [
    "def rmse(y_true, y_pred):\n",
    "    return tf.sqrt(tf.keras.losses.MSE(y_true, y_pred))"
   ]
  },
  {
   "cell_type": "code",
   "execution_count": 569,
   "id": "61df504f-863e-4663-ae69-09ca4db8c718",
   "metadata": {},
   "outputs": [],
   "source": [
    "mms = MinMaxScaler(feature_range=(-1, 1))\n",
    "X_train_sc = mms.fit_transform(X_train)\n",
    "X_test_sc = mms.transform(X_test)\n",
    "\n",
    "X_train_dl = np.reshape(X_train, (int(X_train_sc.shape[0]/3), 3, X_train.shape[1]))\n",
    "X_test_dl = np.reshape(X_test, (int(X_test_sc.shape[0]/3), 3, X_test.shape[1]))\n",
    "y_train_dl = np.reshape(y_train, (int(y_train.shape[0]/3), 3, y_train.shape[1]))\n",
    "y_test_dl = np.reshape(y_test, (int(y_test.shape[0]/3), 3, y_test.shape[1]))"
   ]
  },
  {
   "cell_type": "code",
   "execution_count": 605,
   "id": "db87189a-d00d-42c2-8fcc-e63467ac0020",
   "metadata": {},
   "outputs": [],
   "source": [
    "# setup the RNN model\n",
    "model = Sequential()\n",
    "# number_sampling, \n",
    "model.add(InputLayer(shape=(3, X_train.shape[1])))\n",
    "model.add(LSTM(64, activation='relu'))\n",
    "model.add(Dense(1, activation='linear'))\n",
    "\n",
    "model.compile(optimizer='adam', loss='mean_squared_error', metrics=[rmse])\n",
    "\n",
    "# train the model\n",
    "hist = model.fit(X_train_dl, y_train_dl, epochs=50, batch_size=72, verbose=0, \n",
    "                 validation_data=(X_test_dl, y_test_dl))"
   ]
  },
  {
   "cell_type": "code",
   "execution_count": 613,
   "id": "6239350a-6072-45b2-aeb3-d8a80553ea11",
   "metadata": {},
   "outputs": [],
   "source": [
    "def plot_model(model, X_test, y_test, history):\n",
    "    fig, ax = plt.subplots(1, 2, figsize=(15, 5))\n",
    "    # plot training loss vs validation loss#\n",
    "    ax[0].plot(history.history['loss'], label='Training Loss')\n",
    "    ax[0].plot(history.history['val_loss'], label='Validation Loss')\n",
    "    ax[0].set_title('Training loss vs validation loss')\n",
    "    ax[0].set_xlabel('Epoch')\n",
    "    ax[0].set_ylabel('Loss')\n",
    "    ax[0].legend()\n",
    "    \n",
    "    ax[1].set_title('Training RMSE vs validation RMSE')\n",
    "    ax[1].plot(history.history['rmse'], label='Training RMSE')\n",
    "    ax[1].plot(history.history['val_rmse'], label='Validation RMSE')\n",
    "    ax[1].set_xlabel('Epoch')\n",
    "    ax[1].set_ylabel('RMSE')\n",
    "    ax[1].legend()\n",
    "\n",
    "    # show evaluate model RMSE\n",
    "    preds = model.predict(X_test, verbose=0)\n",
    "    plt.suptitle(f'Model Testing RMSE: {round(root_mean_squared_error(y_test[:,-1], preds[:,-1]), 4)}')\n",
    "    plt.show()"
   ]
  },
  {
   "cell_type": "code",
   "execution_count": 615,
   "id": "83657c4d-e802-4684-9f83-2a676fd47498",
   "metadata": {},
   "outputs": [
    {
     "data": {
      "image/png": "[encoded data removed]",
      "text/plain": [
       "<Figure size 1500x500 with 2 Axes>"
      ]
     },
     "metadata": {},
     "output_type": "display_data"
    }
   ],
   "source": [
    "plot_model(model, X_test_dl, y_test_dl, hist)"
   ]
  },
  {
   "cell_type": "code",
   "execution_count": null,
   "id": "1dd0f470-e75e-4b4d-b307-ae600a8b2675",
   "metadata": {},
   "outputs": [],
   "source": []
  }
 ],
 "metadata": {
  "kernelspec": {
   "display_name": "Python 3 (ipykernel)",
   "language": "python",
   "name": "python3"
  },
  "language_info": {
   "codemirror_mode": {
    "name": "ipython",
    "version": 3
   },
   "file_extension": ".py",
   "mimetype": "text/x-python",
   "name": "python",
   "nbconvert_exporter": "python",
   "pygments_lexer": "ipython3",
   "version": "3.12.3"
  }
 },
 "nbformat": 4,
 "nbformat_minor": 5
}
